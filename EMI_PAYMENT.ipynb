{
 "cells": [
  {
   "cell_type": "code",
   "execution_count": 1,
   "id": "880c3839",
   "metadata": {},
   "outputs": [],
   "source": [
    "import pandas as pd\n",
    "import matplotlib\n",
    "import matplotlib.pyplot as plt\n",
    "import seaborn as sns\n",
    "import warnings\n",
    "warnings.filterwarnings('ignore')\n",
    "%matplotlib inline \n",
    "pd.set_option(\"max_columns\",125)"
   ]
  },
  {
   "cell_type": "code",
   "execution_count": 2,
   "id": "6b95be54",
   "metadata": {},
   "outputs": [],
   "source": [
    "df_train = pd.read_csv(\"credit_history_train.csv\")"
   ]
  },
  {
   "cell_type": "code",
   "execution_count": 3,
   "id": "622f3118",
   "metadata": {
    "scrolled": false
   },
   "outputs": [
    {
     "data": {
      "text/html": [
       "<div>\n",
       "<style scoped>\n",
       "    .dataframe tbody tr th:only-of-type {\n",
       "        vertical-align: middle;\n",
       "    }\n",
       "\n",
       "    .dataframe tbody tr th {\n",
       "        vertical-align: top;\n",
       "    }\n",
       "\n",
       "    .dataframe thead th {\n",
       "        text-align: right;\n",
       "    }\n",
       "</style>\n",
       "<table border=\"1\" class=\"dataframe\">\n",
       "  <thead>\n",
       "    <tr style=\"text-align: right;\">\n",
       "      <th></th>\n",
       "      <th>ID</th>\n",
       "      <th>CREDIT</th>\n",
       "      <th>GENDER</th>\n",
       "      <th>EDUCATION</th>\n",
       "      <th>MARRIAGE</th>\n",
       "      <th>AGE</th>\n",
       "      <th>PAY_FEB</th>\n",
       "      <th>PAY_JAN</th>\n",
       "      <th>PAY_DEC</th>\n",
       "      <th>BILL_AMT_FEB</th>\n",
       "      <th>BILL_AMT_JAN</th>\n",
       "      <th>BILL_AMT_DEC</th>\n",
       "      <th>PAY_AMT_FEB</th>\n",
       "      <th>PAY_AMT_JAN</th>\n",
       "      <th>PAY_AMT_DEC</th>\n",
       "      <th>DEFAULT_MAR</th>\n",
       "    </tr>\n",
       "  </thead>\n",
       "  <tbody>\n",
       "    <tr>\n",
       "      <th>0</th>\n",
       "      <td>1</td>\n",
       "      <td>20000</td>\n",
       "      <td>Female</td>\n",
       "      <td>Post Graduate</td>\n",
       "      <td>Married</td>\n",
       "      <td>24</td>\n",
       "      <td>2</td>\n",
       "      <td>2</td>\n",
       "      <td>-1</td>\n",
       "      <td>3913</td>\n",
       "      <td>3102</td>\n",
       "      <td>689</td>\n",
       "      <td>0</td>\n",
       "      <td>689</td>\n",
       "      <td>0</td>\n",
       "      <td>1</td>\n",
       "    </tr>\n",
       "    <tr>\n",
       "      <th>1</th>\n",
       "      <td>2</td>\n",
       "      <td>120000</td>\n",
       "      <td>Female</td>\n",
       "      <td>Post Graduate</td>\n",
       "      <td>Single</td>\n",
       "      <td>26</td>\n",
       "      <td>-1</td>\n",
       "      <td>2</td>\n",
       "      <td>-1</td>\n",
       "      <td>2682</td>\n",
       "      <td>1725</td>\n",
       "      <td>2682</td>\n",
       "      <td>0</td>\n",
       "      <td>1000</td>\n",
       "      <td>1000</td>\n",
       "      <td>1</td>\n",
       "    </tr>\n",
       "    <tr>\n",
       "      <th>2</th>\n",
       "      <td>3</td>\n",
       "      <td>90000</td>\n",
       "      <td>Female</td>\n",
       "      <td>Post Graduate</td>\n",
       "      <td>Single</td>\n",
       "      <td>34</td>\n",
       "      <td>-1</td>\n",
       "      <td>-1</td>\n",
       "      <td>-1</td>\n",
       "      <td>29239</td>\n",
       "      <td>14027</td>\n",
       "      <td>13559</td>\n",
       "      <td>1518</td>\n",
       "      <td>1500</td>\n",
       "      <td>1000</td>\n",
       "      <td>0</td>\n",
       "    </tr>\n",
       "    <tr>\n",
       "      <th>3</th>\n",
       "      <td>4</td>\n",
       "      <td>50000</td>\n",
       "      <td>Female</td>\n",
       "      <td>Post Graduate</td>\n",
       "      <td>Married</td>\n",
       "      <td>37</td>\n",
       "      <td>-1</td>\n",
       "      <td>-1</td>\n",
       "      <td>-1</td>\n",
       "      <td>46990</td>\n",
       "      <td>48233</td>\n",
       "      <td>49291</td>\n",
       "      <td>2000</td>\n",
       "      <td>2019</td>\n",
       "      <td>1200</td>\n",
       "      <td>0</td>\n",
       "    </tr>\n",
       "    <tr>\n",
       "      <th>4</th>\n",
       "      <td>5</td>\n",
       "      <td>50000</td>\n",
       "      <td>Male</td>\n",
       "      <td>Post Graduate</td>\n",
       "      <td>Married</td>\n",
       "      <td>57</td>\n",
       "      <td>-1</td>\n",
       "      <td>-1</td>\n",
       "      <td>-1</td>\n",
       "      <td>8617</td>\n",
       "      <td>5670</td>\n",
       "      <td>35835</td>\n",
       "      <td>2000</td>\n",
       "      <td>36681</td>\n",
       "      <td>10000</td>\n",
       "      <td>0</td>\n",
       "    </tr>\n",
       "  </tbody>\n",
       "</table>\n",
       "</div>"
      ],
      "text/plain": [
       "   ID  CREDIT  GENDER      EDUCATION MARRIAGE  AGE  PAY_FEB  PAY_JAN  PAY_DEC  \\\n",
       "0   1   20000  Female  Post Graduate  Married   24        2        2       -1   \n",
       "1   2  120000  Female  Post Graduate   Single   26       -1        2       -1   \n",
       "2   3   90000  Female  Post Graduate   Single   34       -1       -1       -1   \n",
       "3   4   50000  Female  Post Graduate  Married   37       -1       -1       -1   \n",
       "4   5   50000    Male  Post Graduate  Married   57       -1       -1       -1   \n",
       "\n",
       "   BILL_AMT_FEB  BILL_AMT_JAN  BILL_AMT_DEC  PAY_AMT_FEB  PAY_AMT_JAN  \\\n",
       "0          3913          3102           689            0          689   \n",
       "1          2682          1725          2682            0         1000   \n",
       "2         29239         14027         13559         1518         1500   \n",
       "3         46990         48233         49291         2000         2019   \n",
       "4          8617          5670         35835         2000        36681   \n",
       "\n",
       "   PAY_AMT_DEC  DEFAULT_MAR  \n",
       "0            0            1  \n",
       "1         1000            1  \n",
       "2         1000            0  \n",
       "3         1200            0  \n",
       "4        10000            0  "
      ]
     },
     "execution_count": 3,
     "metadata": {},
     "output_type": "execute_result"
    }
   ],
   "source": [
    "df_train.head()"
   ]
  },
  {
   "cell_type": "code",
   "execution_count": 4,
   "id": "1f86e0e6",
   "metadata": {},
   "outputs": [
    {
     "name": "stdout",
     "output_type": "stream",
     "text": [
      "              Total  Percent\n",
      "DEFAULT_MAR       0      0.0\n",
      "PAY_AMT_DEC       0      0.0\n",
      "PAY_AMT_JAN       0      0.0\n",
      "PAY_AMT_FEB       0      0.0\n",
      "BILL_AMT_DEC      0      0.0\n",
      "BILL_AMT_JAN      0      0.0\n",
      "BILL_AMT_FEB      0      0.0\n",
      "PAY_DEC           0      0.0\n",
      "PAY_JAN           0      0.0\n",
      "PAY_FEB           0      0.0\n",
      "AGE               0      0.0\n",
      "MARRIAGE          0      0.0\n",
      "EDUCATION         0      0.0\n",
      "GENDER            0      0.0\n",
      "CREDIT            0      0.0\n",
      "ID                0      0.0\n"
     ]
    }
   ],
   "source": [
    "## Some basic sanity checks for the 3 data frame \n",
    "def nulldata(dataframe):\n",
    "    total = dataframe.isnull().sum().sort_values(ascending = False)\n",
    "    percent = (dataframe.isnull().sum()/dataframe.isnull().count()*100).sort_values(ascending = False)\n",
    "    df_null=pd.concat([total, percent], axis=1, keys=['Total', 'Percent'])\n",
    "    return(df_null)\n",
    "\n",
    "print(nulldata(df_train))"
   ]
  },
  {
   "cell_type": "code",
   "execution_count": 5,
   "id": "ac5f0dfc",
   "metadata": {},
   "outputs": [
    {
     "data": {
      "image/png": "[encoded data removed]",
      "text/plain": [
       "<Figure size 432x432 with 1 Axes>"
      ]
     },
     "metadata": {
      "needs_background": "light"
     },
     "output_type": "display_data"
    },
    {
     "name": "stdout",
     "output_type": "stream",
     "text": [
      "0    11623\n",
      "1     3377\n",
      "Name: DEFAULT_MAR, dtype: int64\n"
     ]
    }
   ],
   "source": [
    "## We check for any class imbalance in the labelled data set\n",
    "## Also we check if country code also have an impact on churn\n",
    "temp = df_train[\"DEFAULT_MAR\"].value_counts()\n",
    "df = pd.DataFrame({'DEFAULT_MAR': temp.index,'values': temp.values})\n",
    "plt.figure(figsize = (6,6))\n",
    "plt.title('Defaulted Users ')\n",
    "sns.set_color_codes(\"pastel\")\n",
    "sns.barplot(x = 'DEFAULT_MAR', y=\"values\", data=df,palette=\"rocket\")\n",
    "locs, labels = plt.xticks()\n",
    "plt.show()\n",
    "print(temp)"
   ]
  },
  {
   "cell_type": "code",
   "execution_count": 6,
   "id": "0e58dc73",
   "metadata": {},
   "outputs": [
    {
     "data": {
      "text/plain": [
       "DEFAULT_MAR\n",
       "0    77.486667\n",
       "1    22.513333\n",
       "Name: ID, dtype: float64"
      ]
     },
     "execution_count": 6,
     "metadata": {},
     "output_type": "execute_result"
    }
   ],
   "source": [
    "# Default Percentage\n",
    "100*df_train.groupby('DEFAULT_MAR')[\"ID\"].count()/len(df_train)"
   ]
  },
  {
   "cell_type": "markdown",
   "id": "a4a737ed",
   "metadata": {},
   "source": [
    "**22.5% of the users defaulted in the month of MARCH**\n",
    "\n",
    "There is a class imbalance in the data, quite expectedly so and we will handle it in due course of analysis and model building\n",
    "\n",
    "We now move on the explore all the other variables to understand their distribution and discrepancies in them if any"
   ]
  },
  {
   "cell_type": "code",
   "execution_count": 7,
   "id": "78492598",
   "metadata": {},
   "outputs": [],
   "source": [
    "## Analysing the CATEGORICAL VARIABLES and their distribution too Default and Non default cases"
   ]
  },
  {
   "cell_type": "code",
   "execution_count": 8,
   "id": "929410b2",
   "metadata": {},
   "outputs": [],
   "source": [
    "def get_data_crosstab(dataframe,label_column,feature_column):\n",
    "    data_crosstab = pd.crosstab(dataframe[label_column], dataframe[feature_column], margins=True, normalize=False)\n",
    "    new_index = {1: 'DEFAULT', 0: 'NO_DEFAULT', }\n",
    "    data_crosstab.rename(index=new_index,inplace=True)\n",
    "    distribution_output=data_crosstab/data_crosstab.loc['All']\n",
    "    return distribution_output,data_crosstab"
   ]
  },
  {
   "cell_type": "code",
   "execution_count": 9,
   "id": "b56ddf59",
   "metadata": {},
   "outputs": [
    {
     "data": {
      "text/plain": [
       "(GENDER        Female     Male       All\n",
       " DEFAULT_MAR                            \n",
       " NO_DEFAULT   0.78621  0.75944  0.774867\n",
       " DEFAULT      0.21379  0.24056  0.225133\n",
       " All          1.00000  1.00000  1.000000,\n",
       " GENDER       Female  Male    All\n",
       " DEFAULT_MAR                     \n",
       " NO_DEFAULT     6796  4827  11623\n",
       " DEFAULT        1848  1529   3377\n",
       " All            8644  6356  15000)"
      ]
     },
     "execution_count": 9,
     "metadata": {},
     "output_type": "execute_result"
    }
   ],
   "source": [
    "get_data_crosstab(df_train,\"DEFAULT_MAR\",\"GENDER\")"
   ]
  },
  {
   "cell_type": "code",
   "execution_count": 10,
   "id": "9f223532",
   "metadata": {},
   "outputs": [
    {
     "data": {
      "text/plain": [
       "(EDUCATION    Doctorate  Graduate  High School  Others  Post Graduate       All\n",
       " DEFAULT_MAR                                                                   \n",
       " NO_DEFAULT    0.945946  0.793688     0.750212  0.9375       0.764012  0.774867\n",
       " DEFAULT       0.054054  0.206312     0.249788  0.0625       0.235988  0.225133\n",
       " All           1.000000  1.000000     1.000000  1.0000       1.000000  1.000000,\n",
       " EDUCATION    Doctorate  Graduate  High School  Others  Post Graduate    All\n",
       " DEFAULT_MAR                                                                \n",
       " NO_DEFAULT          35      4451         1769     120           5248  11623\n",
       " DEFAULT              2      1157          589       8           1621   3377\n",
       " All                 37      5608         2358     128           6869  15000)"
      ]
     },
     "execution_count": 10,
     "metadata": {},
     "output_type": "execute_result"
    }
   ],
   "source": [
    "get_data_crosstab(df_train,\"DEFAULT_MAR\",\"EDUCATION\")"
   ]
  },
  {
   "cell_type": "code",
   "execution_count": 11,
   "id": "fbcd6092",
   "metadata": {},
   "outputs": [
    {
     "data": {
      "text/plain": [
       "(MARRIAGE      Married    Others    Single       All\n",
       " DEFAULT_MAR                                        \n",
       " NO_DEFAULT   0.760434  0.794258  0.786117  0.774867\n",
       " DEFAULT      0.239566  0.205742  0.213883  0.225133\n",
       " All          1.000000  1.000000  1.000000  1.000000,\n",
       " MARRIAGE     Married  Others  Single    All\n",
       " DEFAULT_MAR                                \n",
       " NO_DEFAULT      5047     166    6410  11623\n",
       " DEFAULT         1590      43    1744   3377\n",
       " All             6637     209    8154  15000)"
      ]
     },
     "execution_count": 11,
     "metadata": {},
     "output_type": "execute_result"
    }
   ],
   "source": [
    "get_data_crosstab(df_train,\"DEFAULT_MAR\",\"MARRIAGE\")"
   ]
  },
  {
   "cell_type": "markdown",
   "id": "8907b5c7",
   "metadata": {},
   "source": [
    "We see than GENDER EDUCATION and MARTITAL STATUS doesn't provide a significant impact of DEFAULT rate. \n",
    "\n",
    "The categories of EDUCATION with fairly large deviation from the overall average is due to quite less number of records which are not significant enough to be considered as quite impactful"
   ]
  },
  {
   "cell_type": "code",
   "execution_count": 12,
   "id": "d8e9bfe6",
   "metadata": {},
   "outputs": [],
   "source": [
    "## Analysing the CONTINOUS VARIABLES and their distribution too Default and Non default cases"
   ]
  },
  {
   "cell_type": "code",
   "execution_count": 13,
   "id": "276f845c",
   "metadata": {},
   "outputs": [],
   "source": [
    "def get_data_distrib(data_frame,label_column,feature_column):\n",
    "    df_default = data_frame[data_frame[label_column] == 1]\n",
    "    df_no_default = data_frame[data_frame[label_column] == 0]\n",
    "    df_default[\"DEFAULT\"] = df_default[feature_column]\n",
    "    df_no_default[\"NO_DEFAULT\"] = df_no_default[feature_column]\n",
    "    f, ax = plt.subplots(figsize=(12, 6))\n",
    "    ax = sns.kdeplot(df_default[\"DEFAULT\"], shade=True, color=\"r\")\n",
    "    ax = sns.kdeplot(df_no_default[\"NO_DEFAULT\"], shade=True, color=\"g\")\n",
    "    plt.title('Density plot by'+feature_column+'.')\n",
    "    \n",
    "    "
   ]
  },
  {
   "cell_type": "code",
   "execution_count": 14,
   "id": "30643167",
   "metadata": {},
   "outputs": [
    {
     "data": {
      "image/png": "[encoded data removed]",
      "text/plain": [
       "<Figure size 864x432 with 1 Axes>"
      ]
     },
     "metadata": {
      "needs_background": "light"
     },
     "output_type": "display_data"
    }
   ],
   "source": [
    "get_data_distrib(df_train,\"DEFAULT_MAR\",\"AGE\")"
   ]
  },
  {
   "cell_type": "code",
   "execution_count": 15,
   "id": "b1c9bf9e",
   "metadata": {},
   "outputs": [
    {
     "data": {
      "image/png": "[encoded data removed]",
      "text/plain": [
       "<Figure size 864x432 with 1 Axes>"
      ]
     },
     "metadata": {
      "needs_background": "light"
     },
     "output_type": "display_data"
    }
   ],
   "source": [
    "get_data_distrib(df_train,\"DEFAULT_MAR\",\"CREDIT\")"
   ]
  },
  {
   "cell_type": "code",
   "execution_count": 16,
   "id": "e47a5a9f",
   "metadata": {},
   "outputs": [
    {
     "data": {
      "text/plain": [
       "<AxesSubplot:title={'center':'Correlation between the continuous variables'}>"
      ]
     },
     "execution_count": 16,
     "metadata": {},
     "output_type": "execute_result"
    },
    {
     "data": {
      "image/png": "[encoded data removed]",
      "text/plain": [
       "<Figure size 1080x1080 with 2 Axes>"
      ]
     },
     "metadata": {
      "needs_background": "light"
     },
     "output_type": "display_data"
    }
   ],
   "source": [
    "var = ['BILL_AMT_FEB','BILL_AMT_JAN','BILL_AMT_DEC','PAY_AMT_FEB','PAY_AMT_JAN','PAY_AMT_DEC',\"CREDIT\",\"AGE\"]\n",
    "\n",
    "plt.figure(figsize = (15,15))\n",
    "plt.title('Correlation between the continuous variables')\n",
    "corr = df_train[var].corr()\n",
    "sns.heatmap(corr, cbar = True,  square = True, annot=True, fmt= '.2f',annot_kws={'size': 10},\n",
    "            xticklabels=corr.columns.values,\n",
    "            yticklabels=corr.columns.values)"
   ]
  },
  {
   "cell_type": "markdown",
   "id": "15a2652b",
   "metadata": {},
   "source": [
    "### Observations\n",
    "\n",
    "1. As we see from the distribution of AGE, TOTAL CREDIT and the correlation of all the categorical varaibles it seems they are fairly independent to each other. The overall BILL AMOUNT of 3 months which shows high correlation can be attributed to the nature of business and since we know all months are independent of each other the correlation is not of importance in this case.\n",
    "\n",
    "2. Also the probability of default rate is not significantly different to non default rate w.r.t AGE.\n",
    "\n",
    "3. There is a slightly higher rate of DEFAULT for SMEs with smaller CREDIT.\n",
    "\n"
   ]
  },
  {
   "cell_type": "markdown",
   "id": "2db1aae9",
   "metadata": {},
   "source": [
    "One important factor can be continuity in payments and hence we create a feature to ascertain continuity of payments by SMEs\n",
    "\n",
    "\n",
    "Let's look into continuity of pay to DEFAULT. Here all payments default code are in the range (-1..n) so for 3 months the best score can be -3. Checking the payment default codes' sum and their distribution to default"
   ]
  },
  {
   "cell_type": "code",
   "execution_count": 17,
   "id": "2fa30caf",
   "metadata": {},
   "outputs": [],
   "source": [
    "df_train[\"sum_code\"]=df_train.apply(lambda row:row.PAY_FEB+row.PAY_JAN+row.PAY_DEC,axis=1)\n",
    "perc_tab,data_tab=get_data_crosstab(df_train,\"DEFAULT_MAR\",\"sum_code\")"
   ]
  },
  {
   "cell_type": "code",
   "execution_count": 18,
   "id": "268449ca",
   "metadata": {},
   "outputs": [
    {
     "data": {
      "text/html": [
       "<div>\n",
       "<style scoped>\n",
       "    .dataframe tbody tr th:only-of-type {\n",
       "        vertical-align: middle;\n",
       "    }\n",
       "\n",
       "    .dataframe tbody tr th {\n",
       "        vertical-align: top;\n",
       "    }\n",
       "\n",
       "    .dataframe thead th {\n",
       "        text-align: right;\n",
       "    }\n",
       "</style>\n",
       "<table border=\"1\" class=\"dataframe\">\n",
       "  <thead>\n",
       "    <tr style=\"text-align: right;\">\n",
       "      <th>DEFAULT_MAR</th>\n",
       "      <th>sum_code</th>\n",
       "      <th>NO_DEFAULT</th>\n",
       "      <th>DEFAULT</th>\n",
       "      <th>All</th>\n",
       "    </tr>\n",
       "  </thead>\n",
       "  <tbody>\n",
       "    <tr>\n",
       "      <th>17</th>\n",
       "      <td>16</td>\n",
       "      <td>0.000000</td>\n",
       "      <td>1.000000</td>\n",
       "      <td>1.0</td>\n",
       "    </tr>\n",
       "    <tr>\n",
       "      <th>18</th>\n",
       "      <td>17</td>\n",
       "      <td>0.000000</td>\n",
       "      <td>1.000000</td>\n",
       "      <td>1.0</td>\n",
       "    </tr>\n",
       "    <tr>\n",
       "      <th>12</th>\n",
       "      <td>10</td>\n",
       "      <td>0.214286</td>\n",
       "      <td>0.785714</td>\n",
       "      <td>1.0</td>\n",
       "    </tr>\n",
       "    <tr>\n",
       "      <th>9</th>\n",
       "      <td>7</td>\n",
       "      <td>0.274336</td>\n",
       "      <td>0.725664</td>\n",
       "      <td>1.0</td>\n",
       "    </tr>\n",
       "    <tr>\n",
       "      <th>11</th>\n",
       "      <td>9</td>\n",
       "      <td>0.311111</td>\n",
       "      <td>0.688889</td>\n",
       "      <td>1.0</td>\n",
       "    </tr>\n",
       "    <tr>\n",
       "      <th>8</th>\n",
       "      <td>6</td>\n",
       "      <td>0.313070</td>\n",
       "      <td>0.686930</td>\n",
       "      <td>1.0</td>\n",
       "    </tr>\n",
       "    <tr>\n",
       "      <th>10</th>\n",
       "      <td>8</td>\n",
       "      <td>0.326531</td>\n",
       "      <td>0.673469</td>\n",
       "      <td>1.0</td>\n",
       "    </tr>\n",
       "    <tr>\n",
       "      <th>16</th>\n",
       "      <td>15</td>\n",
       "      <td>0.333333</td>\n",
       "      <td>0.666667</td>\n",
       "      <td>1.0</td>\n",
       "    </tr>\n",
       "    <tr>\n",
       "      <th>14</th>\n",
       "      <td>12</td>\n",
       "      <td>0.384615</td>\n",
       "      <td>0.615385</td>\n",
       "      <td>1.0</td>\n",
       "    </tr>\n",
       "    <tr>\n",
       "      <th>6</th>\n",
       "      <td>4</td>\n",
       "      <td>0.457627</td>\n",
       "      <td>0.542373</td>\n",
       "      <td>1.0</td>\n",
       "    </tr>\n",
       "    <tr>\n",
       "      <th>19</th>\n",
       "      <td>18</td>\n",
       "      <td>0.500000</td>\n",
       "      <td>0.500000</td>\n",
       "      <td>1.0</td>\n",
       "    </tr>\n",
       "    <tr>\n",
       "      <th>15</th>\n",
       "      <td>13</td>\n",
       "      <td>0.500000</td>\n",
       "      <td>0.500000</td>\n",
       "      <td>1.0</td>\n",
       "    </tr>\n",
       "    <tr>\n",
       "      <th>5</th>\n",
       "      <td>3</td>\n",
       "      <td>0.501961</td>\n",
       "      <td>0.498039</td>\n",
       "      <td>1.0</td>\n",
       "    </tr>\n",
       "    <tr>\n",
       "      <th>2</th>\n",
       "      <td>0</td>\n",
       "      <td>0.568882</td>\n",
       "      <td>0.431118</td>\n",
       "      <td>1.0</td>\n",
       "    </tr>\n",
       "    <tr>\n",
       "      <th>13</th>\n",
       "      <td>11</td>\n",
       "      <td>0.571429</td>\n",
       "      <td>0.428571</td>\n",
       "      <td>1.0</td>\n",
       "    </tr>\n",
       "    <tr>\n",
       "      <th>7</th>\n",
       "      <td>5</td>\n",
       "      <td>0.572500</td>\n",
       "      <td>0.427500</td>\n",
       "      <td>1.0</td>\n",
       "    </tr>\n",
       "    <tr>\n",
       "      <th>4</th>\n",
       "      <td>2</td>\n",
       "      <td>0.656319</td>\n",
       "      <td>0.343681</td>\n",
       "      <td>1.0</td>\n",
       "    </tr>\n",
       "    <tr>\n",
       "      <th>1</th>\n",
       "      <td>-1</td>\n",
       "      <td>0.708167</td>\n",
       "      <td>0.291833</td>\n",
       "      <td>1.0</td>\n",
       "    </tr>\n",
       "    <tr>\n",
       "      <th>20</th>\n",
       "      <td>All</td>\n",
       "      <td>0.774867</td>\n",
       "      <td>0.225133</td>\n",
       "      <td>1.0</td>\n",
       "    </tr>\n",
       "    <tr>\n",
       "      <th>3</th>\n",
       "      <td>1</td>\n",
       "      <td>0.789474</td>\n",
       "      <td>0.210526</td>\n",
       "      <td>1.0</td>\n",
       "    </tr>\n",
       "    <tr>\n",
       "      <th>0</th>\n",
       "      <td>-3</td>\n",
       "      <td>0.868218</td>\n",
       "      <td>0.131782</td>\n",
       "      <td>1.0</td>\n",
       "    </tr>\n",
       "  </tbody>\n",
       "</table>\n",
       "</div>"
      ],
      "text/plain": [
       "DEFAULT_MAR sum_code  NO_DEFAULT   DEFAULT  All\n",
       "17                16    0.000000  1.000000  1.0\n",
       "18                17    0.000000  1.000000  1.0\n",
       "12                10    0.214286  0.785714  1.0\n",
       "9                  7    0.274336  0.725664  1.0\n",
       "11                 9    0.311111  0.688889  1.0\n",
       "8                  6    0.313070  0.686930  1.0\n",
       "10                 8    0.326531  0.673469  1.0\n",
       "16                15    0.333333  0.666667  1.0\n",
       "14                12    0.384615  0.615385  1.0\n",
       "6                  4    0.457627  0.542373  1.0\n",
       "19                18    0.500000  0.500000  1.0\n",
       "15                13    0.500000  0.500000  1.0\n",
       "5                  3    0.501961  0.498039  1.0\n",
       "2                  0    0.568882  0.431118  1.0\n",
       "13                11    0.571429  0.428571  1.0\n",
       "7                  5    0.572500  0.427500  1.0\n",
       "4                  2    0.656319  0.343681  1.0\n",
       "1                 -1    0.708167  0.291833  1.0\n",
       "20               All    0.774867  0.225133  1.0\n",
       "3                  1    0.789474  0.210526  1.0\n",
       "0                 -3    0.868218  0.131782  1.0"
      ]
     },
     "execution_count": 18,
     "metadata": {},
     "output_type": "execute_result"
    }
   ],
   "source": [
    "pd.DataFrame(perc_tab).transpose().reset_index().sort_values(\"DEFAULT\",ascending=False)"
   ]
  },
  {
   "cell_type": "code",
   "execution_count": 19,
   "id": "edeb0fc0",
   "metadata": {},
   "outputs": [],
   "source": [
    "## Creating a BASELINE MODELS with no feature engineering and using all the features"
   ]
  },
  {
   "cell_type": "markdown",
   "id": "8ea724b2",
   "metadata": {},
   "source": [
    "### Pointers to Baseline Model\n",
    "\n",
    "1. The idea is to create a model with all the available features with and without balancing for class imbalance. This will help us get an idea about how the error and the basic metrics for classification looks like.\n",
    "2. We also look at the data distribution to choose the kind of models we want to test the baseline on and for that we do Shapiro test to determine if the training data follows a gaussian distribution"
   ]
  },
  {
   "cell_type": "code",
   "execution_count": 20,
   "id": "79e02cb9",
   "metadata": {},
   "outputs": [
    {
     "name": "stdout",
     "output_type": "stream",
     "text": [
      "Statistics=0.178, p=0.000\n",
      "AGESample does not look Gaussian (reject H0)\n",
      "Statistics=0.178, p=0.000\n",
      "CREDITSample does not look Gaussian (reject H0)\n",
      "Statistics=0.178, p=0.000\n",
      "PAY_AMT_FEBSample does not look Gaussian (reject H0)\n",
      "Statistics=0.178, p=0.000\n",
      "PAY_AMT_JANSample does not look Gaussian (reject H0)\n",
      "Statistics=0.178, p=0.000\n",
      "PAY_AMT_DECSample does not look Gaussian (reject H0)\n",
      "Statistics=0.178, p=0.000\n",
      "BILL_AMT_FEBSample does not look Gaussian (reject H0)\n",
      "Statistics=0.178, p=0.000\n",
      "BILL_AMT_JANSample does not look Gaussian (reject H0)\n",
      "Statistics=0.178, p=0.000\n",
      "BILL_AMT_DECSample does not look Gaussian (reject H0)\n"
     ]
    }
   ],
   "source": [
    "## Testing for gaussian distribution\n",
    "\n",
    "from scipy.stats import shapiro\n",
    "\n",
    "columns=[\"AGE\",\"CREDIT\",\"PAY_AMT_FEB\",\"PAY_AMT_JAN\",\"PAY_AMT_DEC\",\"BILL_AMT_FEB\",\"BILL_AMT_JAN\",\"BILL_AMT_DEC\"]\n",
    "for column in columns:\n",
    "    stat, p = shapiro(df_train[\"PAY_AMT_JAN\"])\n",
    "    print('Statistics=%.3f, p=%.3f' % (stat, p))\n",
    "    # interpret\n",
    "    alpha = 0.05\n",
    "    if p > alpha:\n",
    "        \n",
    "        print(column+' Sample looks Gaussian (fail to reject H0)')\n",
    "    else:\n",
    "        print(column+ 'Sample does not look Gaussian (reject H0)')"
   ]
  },
  {
   "cell_type": "markdown",
   "id": "7b524ac8",
   "metadata": {},
   "source": [
    "### Pointers for Model Building\n",
    "Since none of the numerical variables have a gaussian distribution it makes no sense to use a Linear Model for classification e.g. Logsitic Regression and hence we use various tree based models to build the base line\n",
    "\n",
    "Few arguments in favour of these type of algorithms are:\n",
    "1. They are non-parametric and don’t assume or require the data to follow a particular distribution: this will save you time transforming data to be normally distributed\n",
    "2. They can handle mixed data types: categorical variables do not necessarily have to be one hot encoded\n",
    "3. Multi-collinearity of features does not affect the accuracy and prediction performance of the model: features do not need to be removed or otherwise engineered to decrease the correlations and interactions between them\n",
    "4. They are robust against overfitting: because they use many weak learners that underfit (high bias) and combine those predictions into a stronger learner, they reduce the overfitting (variance) of the model.\n",
    "5. Inputs do not need to be scaled: preprocessing and transforming the features with MinMaxScaler or StandardScaler are not necessary\n",
    "6. They are computationally relatively inexpensive: compared to algorithms such as Support Vector Machines or neural networks they are faster\n"
   ]
  },
  {
   "cell_type": "code",
   "execution_count": 21,
   "id": "1373f48c",
   "metadata": {},
   "outputs": [],
   "source": [
    "#importing libraries\n",
    "from sklearn.tree import DecisionTreeClassifier\n",
    "from sklearn.metrics import accuracy_score, make_scorer\n",
    "from sklearn.model_selection import train_test_split\n",
    "from sklearn.model_selection import KFold\n",
    "from sklearn import metrics\n",
    "from sklearn.model_selection import GridSearchCV\n",
    "from sklearn.linear_model import LogisticRegression\n",
    "from sklearn.tree import DecisionTreeClassifier\n",
    "from sklearn.ensemble import RandomForestClassifier , GradientBoostingClassifier, AdaBoostClassifier\n",
    "from sklearn.svm import SVC\n",
    "from xgboost import XGBClassifier"
   ]
  },
  {
   "cell_type": "code",
   "execution_count": 22,
   "id": "a334fa5d",
   "metadata": {},
   "outputs": [],
   "source": [
    "## Creating Data for Training and Validation before the model is used in Testing data\n",
    "## We convert the categorical variables to cat codes for easier computation"
   ]
  },
  {
   "cell_type": "code",
   "execution_count": 23,
   "id": "c2b91460",
   "metadata": {},
   "outputs": [],
   "source": [
    "df_train[\"MARRIAGE\"]=pd.factorize(df_train[\"MARRIAGE\"])[0]\n",
    "df_train[\"GENDER\"]=pd.factorize(df_train[\"GENDER\"])[0]\n",
    "df_train[\"EDUCATION\"]=pd.factorize(df_train[\"EDUCATION\"])[0]"
   ]
  },
  {
   "cell_type": "code",
   "execution_count": 24,
   "id": "914f7f70",
   "metadata": {},
   "outputs": [],
   "source": [
    "features=[\"AGE\",\"sum_code\",\"CREDIT\",\"PAY_AMT_FEB\",\"PAY_AMT_JAN\",\"PAY_AMT_DEC\",\"PAY_FEB\",\"PAY_JAN\",\n",
    "          \"PAY_DEC\",\"BILL_AMT_FEB\",\"BILL_AMT_JAN\",\"BILL_AMT_DEC\",\"EDUCATION\",\"GENDER\",\"MARRIAGE\"]\n",
    "class_tag=\"DEFAULT_MAR\"\n"
   ]
  },
  {
   "cell_type": "code",
   "execution_count": 25,
   "id": "430a545d",
   "metadata": {},
   "outputs": [],
   "source": [
    "classifiers = {\"Decision Tree\":DecisionTreeClassifier(max_depth=10, random_state=14),\n",
    "        'XGBClassifier': XGBClassifier(),\n",
    "        \"RandomForest\":RandomForestClassifier(n_estimators = 100, class_weight = \"balanced\"), \n",
    "        \"AdaBoost\":AdaBoostClassifier(DecisionTreeClassifier(max_depth = 3, class_weight = \"balanced\"),\n",
    "                               n_estimators = 100), \n",
    "        \"GradientBoosting\":GradientBoostingClassifier()}"
   ]
  },
  {
   "cell_type": "code",
   "execution_count": 26,
   "id": "62941100",
   "metadata": {},
   "outputs": [
    {
     "name": "stdout",
     "output_type": "stream",
     "text": [
      "[09:23:25] WARNING: ../src/learner.cc:1095: Starting in XGBoost 1.3.0, the default evaluation metric used with the objective 'binary:logistic' was changed from 'error' to 'logloss'. Explicitly set eval_metric if you'd like to restore the old behavior.\n",
      "[09:23:31] WARNING: ../src/learner.cc:1095: Starting in XGBoost 1.3.0, the default evaluation metric used with the objective 'binary:logistic' was changed from 'error' to 'logloss'. Explicitly set eval_metric if you'd like to restore the old behavior.\n",
      "[09:23:37] WARNING: ../src/learner.cc:1095: Starting in XGBoost 1.3.0, the default evaluation metric used with the objective 'binary:logistic' was changed from 'error' to 'logloss'. Explicitly set eval_metric if you'd like to restore the old behavior.\n",
      "[09:23:42] WARNING: ../src/learner.cc:1095: Starting in XGBoost 1.3.0, the default evaluation metric used with the objective 'binary:logistic' was changed from 'error' to 'logloss'. Explicitly set eval_metric if you'd like to restore the old behavior.\n",
      "[09:23:48] WARNING: ../src/learner.cc:1095: Starting in XGBoost 1.3.0, the default evaluation metric used with the objective 'binary:logistic' was changed from 'error' to 'logloss'. Explicitly set eval_metric if you'd like to restore the old behavior.\n"
     ]
    }
   ],
   "source": [
    "## Building the baseline model\n",
    "kf = KFold(n_splits=5,random_state=42,shuffle=True) ## Doing a 4 fold Cross Validation\n",
    "fold = []\n",
    "scr = []\n",
    "models_report = pd.DataFrame(columns = ['Model', 'Precision_score', 'Recall_score','F1_score', 'Accuracy'])\n",
    "\n",
    "df_final=df_train\n",
    "for i,(train_index, test_index) in enumerate(kf.split(df_final)):\n",
    "    training = df_final.iloc[train_index,:]\n",
    "    valid = df_final.iloc[test_index,:]\n",
    "    training_feats = training[features] #defined above\n",
    "    training_label = training[class_tag]\n",
    "\n",
    "    valid_feats = valid[features]\n",
    "    valid_label = valid[class_tag]\n",
    "    for clf, clf_name in zip(classifiers.values(), classifiers.keys()):\n",
    "        clf.fit(training_feats,training_label) #it is the last one we run, the best one\n",
    "        pred = clf.predict(valid_feats)\n",
    "        score = accuracy_score(y_true = valid_label, y_pred = pred)\n",
    "        fold.append(i+1)\n",
    "        scr.append(score)\n",
    "\n",
    "        t = pd.Series({ \n",
    "                         'Model': clf_name,\n",
    "                         'Precision_score': metrics.precision_score(valid_label, pred),\n",
    "                         'Recall_score': metrics.recall_score(valid_label, pred),\n",
    "                         'F1_score': metrics.f1_score(valid_label, pred),\n",
    "                         'Accuracy': metrics.accuracy_score(valid_label, pred),\n",
    "            \"AUC_Score\":metrics.roc_auc_score(valid_label, pred),\n",
    "                        'validation_fold':i}\n",
    "                       )\n",
    "\n",
    "        models_report = models_report.append(t, ignore_index = True)"
   ]
  },
  {
   "cell_type": "code",
   "execution_count": 27,
   "id": "3c3ef9fd",
   "metadata": {},
   "outputs": [
    {
     "data": {
      "text/html": [
       "<div>\n",
       "<style scoped>\n",
       "    .dataframe tbody tr th:only-of-type {\n",
       "        vertical-align: middle;\n",
       "    }\n",
       "\n",
       "    .dataframe tbody tr th {\n",
       "        vertical-align: top;\n",
       "    }\n",
       "\n",
       "    .dataframe thead th {\n",
       "        text-align: right;\n",
       "    }\n",
       "</style>\n",
       "<table border=\"1\" class=\"dataframe\">\n",
       "  <thead>\n",
       "    <tr style=\"text-align: right;\">\n",
       "      <th></th>\n",
       "      <th>Model</th>\n",
       "      <th>Precision_score</th>\n",
       "      <th>Recall_score</th>\n",
       "      <th>F1_score</th>\n",
       "      <th>Accuracy</th>\n",
       "      <th>AUC_Score</th>\n",
       "      <th>validation_fold</th>\n",
       "    </tr>\n",
       "  </thead>\n",
       "  <tbody>\n",
       "    <tr>\n",
       "      <th>18</th>\n",
       "      <td>AdaBoost</td>\n",
       "      <td>0.404234</td>\n",
       "      <td>0.601199</td>\n",
       "      <td>0.483424</td>\n",
       "      <td>0.714333</td>\n",
       "      <td>0.673939</td>\n",
       "      <td>3.0</td>\n",
       "    </tr>\n",
       "    <tr>\n",
       "      <th>13</th>\n",
       "      <td>AdaBoost</td>\n",
       "      <td>0.402572</td>\n",
       "      <td>0.577305</td>\n",
       "      <td>0.474359</td>\n",
       "      <td>0.699333</td>\n",
       "      <td>0.657062</td>\n",
       "      <td>2.0</td>\n",
       "    </tr>\n",
       "    <tr>\n",
       "      <th>8</th>\n",
       "      <td>AdaBoost</td>\n",
       "      <td>0.392821</td>\n",
       "      <td>0.596573</td>\n",
       "      <td>0.473717</td>\n",
       "      <td>0.716333</td>\n",
       "      <td>0.672756</td>\n",
       "      <td>1.0</td>\n",
       "    </tr>\n",
       "    <tr>\n",
       "      <th>23</th>\n",
       "      <td>AdaBoost</td>\n",
       "      <td>0.395683</td>\n",
       "      <td>0.564516</td>\n",
       "      <td>0.465257</td>\n",
       "      <td>0.705000</td>\n",
       "      <td>0.655425</td>\n",
       "      <td>4.0</td>\n",
       "    </tr>\n",
       "    <tr>\n",
       "      <th>3</th>\n",
       "      <td>AdaBoost</td>\n",
       "      <td>0.391079</td>\n",
       "      <td>0.553598</td>\n",
       "      <td>0.458359</td>\n",
       "      <td>0.703000</td>\n",
       "      <td>0.650236</td>\n",
       "      <td>0.0</td>\n",
       "    </tr>\n",
       "  </tbody>\n",
       "</table>\n",
       "</div>"
      ],
      "text/plain": [
       "       Model  Precision_score  Recall_score  F1_score  Accuracy  AUC_Score  \\\n",
       "18  AdaBoost         0.404234      0.601199  0.483424  0.714333   0.673939   \n",
       "13  AdaBoost         0.402572      0.577305  0.474359  0.699333   0.657062   \n",
       "8   AdaBoost         0.392821      0.596573  0.473717  0.716333   0.672756   \n",
       "23  AdaBoost         0.395683      0.564516  0.465257  0.705000   0.655425   \n",
       "3   AdaBoost         0.391079      0.553598  0.458359  0.703000   0.650236   \n",
       "\n",
       "    validation_fold  \n",
       "18              3.0  \n",
       "13              2.0  \n",
       "8               1.0  \n",
       "23              4.0  \n",
       "3               0.0  "
      ]
     },
     "execution_count": 27,
     "metadata": {},
     "output_type": "execute_result"
    }
   ],
   "source": [
    "## Lets look into the baseline models metrics report\n",
    "models_report.sort_values(\"F1_score\",ascending=False)[:5]"
   ]
  },
  {
   "cell_type": "markdown",
   "id": "ac4aa717",
   "metadata": {},
   "source": [
    "### Baseline Model Metrics' Analysis\n",
    "As we see the best F1 score of **~0.48** and AUC score of **~0.67** with recall of **0.60** is achieved in the baseline we can still see a super low precision of **~0.40**. Here are few major pointers to look into\n",
    "\n",
    "1. Because positive is the minority class. There are a lot of negative examples that could become false positives. Conversely, there are fewer positive examples that could become false negatives.\n",
    "2. As a result we get low precision and hence in the next stage we are going to handle the data imbalance.\n",
    "3. As positive minority class is small in size and we are using tree based learners we will undersample at various ratios the negative major class to not loose information of DEFAULT cases since for us FALSE negative is more expensive and FALSE POSITIVES."
   ]
  },
  {
   "cell_type": "code",
   "execution_count": 28,
   "id": "6b1076b4",
   "metadata": {},
   "outputs": [],
   "source": [
    "## Creating subset of classes\n",
    "df_default=df_train[df_train.DEFAULT_MAR==1]\n",
    "df_no_default=df_train[df_train.DEFAULT_MAR==0]"
   ]
  },
  {
   "cell_type": "markdown",
   "id": "b6f2eb8a",
   "metadata": {},
   "source": [
    "As our overall data has 77% Majority and 23% Minority class we are trying with different ratios from 50% to 75%. Also we are storing the base model based on the F1 score of the models"
   ]
  },
  {
   "cell_type": "code",
   "execution_count": 29,
   "id": "19ab0748",
   "metadata": {},
   "outputs": [
    {
     "name": "stdout",
     "output_type": "stream",
     "text": [
      "[09:24:14] WARNING: ../src/learner.cc:1095: Starting in XGBoost 1.3.0, the default evaluation metric used with the objective 'binary:logistic' was changed from 'error' to 'logloss'. Explicitly set eval_metric if you'd like to restore the old behavior.\n",
      "[09:24:17] WARNING: ../src/learner.cc:1095: Starting in XGBoost 1.3.0, the default evaluation metric used with the objective 'binary:logistic' was changed from 'error' to 'logloss'. Explicitly set eval_metric if you'd like to restore the old behavior.\n",
      "[09:24:20] WARNING: ../src/learner.cc:1095: Starting in XGBoost 1.3.0, the default evaluation metric used with the objective 'binary:logistic' was changed from 'error' to 'logloss'. Explicitly set eval_metric if you'd like to restore the old behavior.\n",
      "[09:24:22] WARNING: ../src/learner.cc:1095: Starting in XGBoost 1.3.0, the default evaluation metric used with the objective 'binary:logistic' was changed from 'error' to 'logloss'. Explicitly set eval_metric if you'd like to restore the old behavior.\n",
      "[09:24:25] WARNING: ../src/learner.cc:1095: Starting in XGBoost 1.3.0, the default evaluation metric used with the objective 'binary:logistic' was changed from 'error' to 'logloss'. Explicitly set eval_metric if you'd like to restore the old behavior.\n",
      "[09:24:28] WARNING: ../src/learner.cc:1095: Starting in XGBoost 1.3.0, the default evaluation metric used with the objective 'binary:logistic' was changed from 'error' to 'logloss'. Explicitly set eval_metric if you'd like to restore the old behavior.\n",
      "[09:24:31] WARNING: ../src/learner.cc:1095: Starting in XGBoost 1.3.0, the default evaluation metric used with the objective 'binary:logistic' was changed from 'error' to 'logloss'. Explicitly set eval_metric if you'd like to restore the old behavior.\n",
      "[09:24:34] WARNING: ../src/learner.cc:1095: Starting in XGBoost 1.3.0, the default evaluation metric used with the objective 'binary:logistic' was changed from 'error' to 'logloss'. Explicitly set eval_metric if you'd like to restore the old behavior.\n",
      "[09:24:37] WARNING: ../src/learner.cc:1095: Starting in XGBoost 1.3.0, the default evaluation metric used with the objective 'binary:logistic' was changed from 'error' to 'logloss'. Explicitly set eval_metric if you'd like to restore the old behavior.\n",
      "[09:24:40] WARNING: ../src/learner.cc:1095: Starting in XGBoost 1.3.0, the default evaluation metric used with the objective 'binary:logistic' was changed from 'error' to 'logloss'. Explicitly set eval_metric if you'd like to restore the old behavior.\n",
      "[09:24:42] WARNING: ../src/learner.cc:1095: Starting in XGBoost 1.3.0, the default evaluation metric used with the objective 'binary:logistic' was changed from 'error' to 'logloss'. Explicitly set eval_metric if you'd like to restore the old behavior.\n",
      "[09:24:46] WARNING: ../src/learner.cc:1095: Starting in XGBoost 1.3.0, the default evaluation metric used with the objective 'binary:logistic' was changed from 'error' to 'logloss'. Explicitly set eval_metric if you'd like to restore the old behavior.\n",
      "[09:24:49] WARNING: ../src/learner.cc:1095: Starting in XGBoost 1.3.0, the default evaluation metric used with the objective 'binary:logistic' was changed from 'error' to 'logloss'. Explicitly set eval_metric if you'd like to restore the old behavior.\n",
      "[09:24:52] WARNING: ../src/learner.cc:1095: Starting in XGBoost 1.3.0, the default evaluation metric used with the objective 'binary:logistic' was changed from 'error' to 'logloss'. Explicitly set eval_metric if you'd like to restore the old behavior.\n",
      "[09:24:55] WARNING: ../src/learner.cc:1095: Starting in XGBoost 1.3.0, the default evaluation metric used with the objective 'binary:logistic' was changed from 'error' to 'logloss'. Explicitly set eval_metric if you'd like to restore the old behavior.\n",
      "[09:24:58] WARNING: ../src/learner.cc:1095: Starting in XGBoost 1.3.0, the default evaluation metric used with the objective 'binary:logistic' was changed from 'error' to 'logloss'. Explicitly set eval_metric if you'd like to restore the old behavior.\n",
      "[09:25:02] WARNING: ../src/learner.cc:1095: Starting in XGBoost 1.3.0, the default evaluation metric used with the objective 'binary:logistic' was changed from 'error' to 'logloss'. Explicitly set eval_metric if you'd like to restore the old behavior.\n",
      "[09:25:06] WARNING: ../src/learner.cc:1095: Starting in XGBoost 1.3.0, the default evaluation metric used with the objective 'binary:logistic' was changed from 'error' to 'logloss'. Explicitly set eval_metric if you'd like to restore the old behavior.\n",
      "[09:25:11] WARNING: ../src/learner.cc:1095: Starting in XGBoost 1.3.0, the default evaluation metric used with the objective 'binary:logistic' was changed from 'error' to 'logloss'. Explicitly set eval_metric if you'd like to restore the old behavior.\n",
      "[09:25:16] WARNING: ../src/learner.cc:1095: Starting in XGBoost 1.3.0, the default evaluation metric used with the objective 'binary:logistic' was changed from 'error' to 'logloss'. Explicitly set eval_metric if you'd like to restore the old behavior.\n",
      "[09:25:20] WARNING: ../src/learner.cc:1095: Starting in XGBoost 1.3.0, the default evaluation metric used with the objective 'binary:logistic' was changed from 'error' to 'logloss'. Explicitly set eval_metric if you'd like to restore the old behavior.\n",
      "[09:25:25] WARNING: ../src/learner.cc:1095: Starting in XGBoost 1.3.0, the default evaluation metric used with the objective 'binary:logistic' was changed from 'error' to 'logloss'. Explicitly set eval_metric if you'd like to restore the old behavior.\n",
      "[09:25:31] WARNING: ../src/learner.cc:1095: Starting in XGBoost 1.3.0, the default evaluation metric used with the objective 'binary:logistic' was changed from 'error' to 'logloss'. Explicitly set eval_metric if you'd like to restore the old behavior.\n",
      "[09:25:36] WARNING: ../src/learner.cc:1095: Starting in XGBoost 1.3.0, the default evaluation metric used with the objective 'binary:logistic' was changed from 'error' to 'logloss'. Explicitly set eval_metric if you'd like to restore the old behavior.\n",
      "[09:25:41] WARNING: ../src/learner.cc:1095: Starting in XGBoost 1.3.0, the default evaluation metric used with the objective 'binary:logistic' was changed from 'error' to 'logloss'. Explicitly set eval_metric if you'd like to restore the old behavior.\n"
     ]
    }
   ],
   "source": [
    "kf = KFold(n_splits=5,random_state=42,shuffle=True)\n",
    "auc_score = 0\n",
    "\n",
    "fold = []\n",
    "scr = []\n",
    "models_report = pd.DataFrame(columns = ['Model', 'Precision_score', 'Recall_score','F1_score', 'Accuracy'])\n",
    "for j in range(50,75,5):\n",
    "    ratio=j/100\n",
    "    df_final = pd.concat([df_no_default.sample(round(len(df_default)*ratio/(1-ratio))),df_default])\n",
    "    for i,(train_index, test_index) in enumerate(kf.split(df_final)):\n",
    "        training = df_final.iloc[train_index,:]\n",
    "        valid = df_final.iloc[test_index,:]\n",
    "        training_feats = training[features] #defined above\n",
    "        training_label = training[class_tag]\n",
    "\n",
    "        valid_feats = valid[features]\n",
    "        valid_label = valid[class_tag]\n",
    "        for clf, clf_name in zip(classifiers.values(), classifiers.keys()):\n",
    "            clf.fit(training_feats,training_label) #it is the last one we run, the best one\n",
    "            pred = clf.predict(valid_feats)\n",
    "            score = accuracy_score(y_true = valid_label, y_pred = pred)\n",
    "            fold.append(i+1)\n",
    "            scr.append(score)\n",
    "\n",
    "            t = pd.Series({ \n",
    "                             'Model': clf_name,\n",
    "                             'Precision_score': metrics.precision_score(valid_label, pred),\n",
    "                             'Recall_score': metrics.recall_score(valid_label, pred),\n",
    "                             'F1_score': metrics.f1_score(valid_label, pred),\n",
    "                             'Accuracy': metrics.accuracy_score(valid_label, pred),\n",
    "                \"AUC_Score\":metrics.roc_auc_score(valid_label, pred),\n",
    "                            'validation_fold':i,\n",
    "                            'ratio_val':j}\n",
    "                           )\n",
    "\n",
    "            models_report = models_report.append(t, ignore_index = True)\n",
    "\n",
    "            if metrics.roc_auc_score(valid_label, pred)>auc_score:\n",
    "                auc_score = metrics.roc_auc_score(valid_label, pred)\n",
    "\n",
    "                best_model,best_model_name = clf,clf_name"
   ]
  },
  {
   "cell_type": "code",
   "execution_count": 30,
   "id": "144dede6",
   "metadata": {},
   "outputs": [
    {
     "data": {
      "text/html": [
       "<div>\n",
       "<style scoped>\n",
       "    .dataframe tbody tr th:only-of-type {\n",
       "        vertical-align: middle;\n",
       "    }\n",
       "\n",
       "    .dataframe tbody tr th {\n",
       "        vertical-align: top;\n",
       "    }\n",
       "\n",
       "    .dataframe thead th {\n",
       "        text-align: right;\n",
       "    }\n",
       "</style>\n",
       "<table border=\"1\" class=\"dataframe\">\n",
       "  <thead>\n",
       "    <tr style=\"text-align: right;\">\n",
       "      <th></th>\n",
       "      <th>Model</th>\n",
       "      <th>Precision_score</th>\n",
       "      <th>Recall_score</th>\n",
       "      <th>F1_score</th>\n",
       "      <th>Accuracy</th>\n",
       "      <th>AUC_Score</th>\n",
       "      <th>ratio_val</th>\n",
       "      <th>validation_fold</th>\n",
       "    </tr>\n",
       "  </thead>\n",
       "  <tbody>\n",
       "    <tr>\n",
       "      <th>14</th>\n",
       "      <td>GradientBoosting</td>\n",
       "      <td>0.728155</td>\n",
       "      <td>0.649351</td>\n",
       "      <td>0.686499</td>\n",
       "      <td>0.695781</td>\n",
       "      <td>0.697016</td>\n",
       "      <td>50.0</td>\n",
       "      <td>2.0</td>\n",
       "    </tr>\n",
       "    <tr>\n",
       "      <th>11</th>\n",
       "      <td>XGBClassifier</td>\n",
       "      <td>0.686391</td>\n",
       "      <td>0.669553</td>\n",
       "      <td>0.677867</td>\n",
       "      <td>0.673575</td>\n",
       "      <td>0.673682</td>\n",
       "      <td>50.0</td>\n",
       "      <td>2.0</td>\n",
       "    </tr>\n",
       "    <tr>\n",
       "      <th>24</th>\n",
       "      <td>GradientBoosting</td>\n",
       "      <td>0.739054</td>\n",
       "      <td>0.618768</td>\n",
       "      <td>0.673583</td>\n",
       "      <td>0.697037</td>\n",
       "      <td>0.697857</td>\n",
       "      <td>50.0</td>\n",
       "      <td>4.0</td>\n",
       "    </tr>\n",
       "    <tr>\n",
       "      <th>12</th>\n",
       "      <td>RandomForest</td>\n",
       "      <td>0.722222</td>\n",
       "      <td>0.619048</td>\n",
       "      <td>0.666667</td>\n",
       "      <td>0.682457</td>\n",
       "      <td>0.684144</td>\n",
       "      <td>50.0</td>\n",
       "      <td>2.0</td>\n",
       "    </tr>\n",
       "    <tr>\n",
       "      <th>9</th>\n",
       "      <td>GradientBoosting</td>\n",
       "      <td>0.719361</td>\n",
       "      <td>0.617378</td>\n",
       "      <td>0.664479</td>\n",
       "      <td>0.697261</td>\n",
       "      <td>0.695020</td>\n",
       "      <td>50.0</td>\n",
       "      <td>1.0</td>\n",
       "    </tr>\n",
       "    <tr>\n",
       "      <th>...</th>\n",
       "      <td>...</td>\n",
       "      <td>...</td>\n",
       "      <td>...</td>\n",
       "      <td>...</td>\n",
       "      <td>...</td>\n",
       "      <td>...</td>\n",
       "      <td>...</td>\n",
       "      <td>...</td>\n",
       "    </tr>\n",
       "    <tr>\n",
       "      <th>107</th>\n",
       "      <td>RandomForest</td>\n",
       "      <td>0.657360</td>\n",
       "      <td>0.380323</td>\n",
       "      <td>0.481860</td>\n",
       "      <td>0.752664</td>\n",
       "      <td>0.647195</td>\n",
       "      <td>70.0</td>\n",
       "      <td>1.0</td>\n",
       "    </tr>\n",
       "    <tr>\n",
       "      <th>111</th>\n",
       "      <td>XGBClassifier</td>\n",
       "      <td>0.594655</td>\n",
       "      <td>0.404545</td>\n",
       "      <td>0.481515</td>\n",
       "      <td>0.744558</td>\n",
       "      <td>0.645076</td>\n",
       "      <td>70.0</td>\n",
       "      <td>2.0</td>\n",
       "    </tr>\n",
       "    <tr>\n",
       "      <th>100</th>\n",
       "      <td>Decision Tree</td>\n",
       "      <td>0.551515</td>\n",
       "      <td>0.408683</td>\n",
       "      <td>0.469475</td>\n",
       "      <td>0.726021</td>\n",
       "      <td>0.634266</td>\n",
       "      <td>70.0</td>\n",
       "      <td>0.0</td>\n",
       "    </tr>\n",
       "    <tr>\n",
       "      <th>119</th>\n",
       "      <td>GradientBoosting</td>\n",
       "      <td>0.660477</td>\n",
       "      <td>0.361919</td>\n",
       "      <td>0.467606</td>\n",
       "      <td>0.748112</td>\n",
       "      <td>0.640012</td>\n",
       "      <td>70.0</td>\n",
       "      <td>3.0</td>\n",
       "    </tr>\n",
       "    <tr>\n",
       "      <th>110</th>\n",
       "      <td>Decision Tree</td>\n",
       "      <td>0.567391</td>\n",
       "      <td>0.395455</td>\n",
       "      <td>0.466071</td>\n",
       "      <td>0.734340</td>\n",
       "      <td>0.635188</td>\n",
       "      <td>70.0</td>\n",
       "      <td>2.0</td>\n",
       "    </tr>\n",
       "  </tbody>\n",
       "</table>\n",
       "<p>125 rows × 8 columns</p>\n",
       "</div>"
      ],
      "text/plain": [
       "                Model  Precision_score  Recall_score  F1_score  Accuracy  \\\n",
       "14   GradientBoosting         0.728155      0.649351  0.686499  0.695781   \n",
       "11      XGBClassifier         0.686391      0.669553  0.677867  0.673575   \n",
       "24   GradientBoosting         0.739054      0.618768  0.673583  0.697037   \n",
       "12       RandomForest         0.722222      0.619048  0.666667  0.682457   \n",
       "9    GradientBoosting         0.719361      0.617378  0.664479  0.697261   \n",
       "..                ...              ...           ...       ...       ...   \n",
       "107      RandomForest         0.657360      0.380323  0.481860  0.752664   \n",
       "111     XGBClassifier         0.594655      0.404545  0.481515  0.744558   \n",
       "100     Decision Tree         0.551515      0.408683  0.469475  0.726021   \n",
       "119  GradientBoosting         0.660477      0.361919  0.467606  0.748112   \n",
       "110     Decision Tree         0.567391      0.395455  0.466071  0.734340   \n",
       "\n",
       "     AUC_Score  ratio_val  validation_fold  \n",
       "14    0.697016       50.0              2.0  \n",
       "11    0.673682       50.0              2.0  \n",
       "24    0.697857       50.0              4.0  \n",
       "12    0.684144       50.0              2.0  \n",
       "9     0.695020       50.0              1.0  \n",
       "..         ...        ...              ...  \n",
       "107   0.647195       70.0              1.0  \n",
       "111   0.645076       70.0              2.0  \n",
       "100   0.634266       70.0              0.0  \n",
       "119   0.640012       70.0              3.0  \n",
       "110   0.635188       70.0              2.0  \n",
       "\n",
       "[125 rows x 8 columns]"
      ]
     },
     "execution_count": 30,
     "metadata": {},
     "output_type": "execute_result"
    }
   ],
   "source": [
    "models_report.sort_values(\"F1_score\",ascending=False)"
   ]
  },
  {
   "cell_type": "markdown",
   "id": "8a4da64b",
   "metadata": {},
   "source": [
    "### Model Evaluation\n",
    "As we handle the class imbalance with undersampling technique we see that the F1 score improved significantly from **0.48** to **0.68**\n",
    "for a Gradient Boosting Model with **50:50** split. \n",
    "\n",
    "We use the best model interms of F1 score for predicting our test data\n",
    "\n",
    "#### Why F1 score as the metric of choice\n",
    "\n",
    "F1 Score keeps a balance between Precision and Recall. We use it if there is uneven class distribution, as precision and recall may give misleading results whereas F1 Score is a comparison indicator between Precision and Recall Numbers."
   ]
  },
  {
   "cell_type": "code",
   "execution_count": 31,
   "id": "bc84a5fe",
   "metadata": {},
   "outputs": [
    {
     "name": "stdout",
     "output_type": "stream",
     "text": [
      "        features  importance_value\n",
      "1       sum_code          0.516944\n",
      "6        PAY_FEB          0.162196\n",
      "9   BILL_AMT_FEB          0.061976\n",
      "5    PAY_AMT_DEC          0.050585\n",
      "3    PAY_AMT_FEB          0.039729\n",
      "2         CREDIT          0.039217\n",
      "11  BILL_AMT_DEC          0.031695\n",
      "4    PAY_AMT_JAN          0.031637\n",
      "10  BILL_AMT_JAN          0.028170\n",
      "0            AGE          0.013279\n",
      "12     EDUCATION          0.008933\n",
      "7        PAY_JAN          0.006194\n",
      "14      MARRIAGE          0.005704\n",
      "13        GENDER          0.001914\n",
      "8        PAY_DEC          0.001827\n"
     ]
    },
    {
     "data": {
      "image/png": "[encoded data removed]",
      "text/plain": [
       "<Figure size 1296x1080 with 1 Axes>"
      ]
     },
     "metadata": {
      "needs_background": "light"
     },
     "output_type": "display_data"
    }
   ],
   "source": [
    "## Also lets look at the feature importance on the best model\n",
    "df_feature_importance= pd.DataFrame({\"features\":features,\"importance_value\":best_model.feature_importances_})\n",
    "print(df_feature_importance.sort_values(\"importance_value\",ascending=False))\n",
    "plt.figure(figsize = (18,15))\n",
    "g = sns.barplot(x=\"features\", y=\"importance_value\",\n",
    "                data=df_feature_importance, \n",
    "                                   palette=\"rocket\")\n",
    "g.set_yscale(\"log\")"
   ]
  },
  {
   "cell_type": "code",
   "execution_count": 32,
   "id": "381f5c7d",
   "metadata": {},
   "outputs": [
    {
     "name": "stdout",
     "output_type": "stream",
     "text": [
      "              Total  Percent\n",
      "PAY_AMT_DEC       0      0.0\n",
      "PAY_AMT_JAN       0      0.0\n",
      "PAY_AMT_FEB       0      0.0\n",
      "BILL_AMT_DEC      0      0.0\n",
      "BILL_AMT_JAN      0      0.0\n",
      "BILL_AMT_FEB      0      0.0\n",
      "PAY_DEC           0      0.0\n",
      "PAY_JAN           0      0.0\n",
      "PAY_FEB           0      0.0\n",
      "AGE               0      0.0\n",
      "MARRIAGE          0      0.0\n",
      "EDUCATION         0      0.0\n",
      "GENDER            0      0.0\n",
      "CREDIT            0      0.0\n",
      "ID                0      0.0\n",
      "Total no of records  15000\n"
     ]
    }
   ],
   "source": [
    "df_test=pd.read_csv(\"credit_history_test.csv\")\n",
    "print(nulldata(df_test))\n",
    "print(\"Total no of records \",len(df_test))"
   ]
  },
  {
   "cell_type": "code",
   "execution_count": 33,
   "id": "90617cc3",
   "metadata": {},
   "outputs": [],
   "source": [
    "# Transforming the variables\n",
    "df_test[\"MARRIAGE\"]=pd.factorize(df_test[\"MARRIAGE\"])[0]\n",
    "df_test[\"GENDER\"]=pd.factorize(df_test[\"GENDER\"])[0]\n",
    "df_test[\"EDUCATION\"]=pd.factorize(df_test[\"EDUCATION\"])[0]\n",
    "df_test[\"sum_code\"]=df_test.apply(lambda row:row.PAY_FEB+row.PAY_JAN+row.PAY_DEC,axis=1)"
   ]
  },
  {
   "cell_type": "code",
   "execution_count": 34,
   "id": "58e6656f",
   "metadata": {},
   "outputs": [
    {
     "data": {
      "text/html": [
       "<div>\n",
       "<style scoped>\n",
       "    .dataframe tbody tr th:only-of-type {\n",
       "        vertical-align: middle;\n",
       "    }\n",
       "\n",
       "    .dataframe tbody tr th {\n",
       "        vertical-align: top;\n",
       "    }\n",
       "\n",
       "    .dataframe thead th {\n",
       "        text-align: right;\n",
       "    }\n",
       "</style>\n",
       "<table border=\"1\" class=\"dataframe\">\n",
       "  <thead>\n",
       "    <tr style=\"text-align: right;\">\n",
       "      <th></th>\n",
       "      <th>AGE</th>\n",
       "      <th>sum_code</th>\n",
       "      <th>CREDIT</th>\n",
       "      <th>PAY_AMT_FEB</th>\n",
       "      <th>PAY_AMT_JAN</th>\n",
       "      <th>PAY_AMT_DEC</th>\n",
       "      <th>PAY_FEB</th>\n",
       "      <th>PAY_JAN</th>\n",
       "      <th>PAY_DEC</th>\n",
       "      <th>BILL_AMT_FEB</th>\n",
       "      <th>BILL_AMT_JAN</th>\n",
       "      <th>BILL_AMT_DEC</th>\n",
       "      <th>EDUCATION</th>\n",
       "      <th>GENDER</th>\n",
       "      <th>MARRIAGE</th>\n",
       "    </tr>\n",
       "  </thead>\n",
       "  <tbody>\n",
       "    <tr>\n",
       "      <th>0</th>\n",
       "      <td>22</td>\n",
       "      <td>-3</td>\n",
       "      <td>50000</td>\n",
       "      <td>10000</td>\n",
       "      <td>1175</td>\n",
       "      <td>2000</td>\n",
       "      <td>-1</td>\n",
       "      <td>-1</td>\n",
       "      <td>-1</td>\n",
       "      <td>24763</td>\n",
       "      <td>33542</td>\n",
       "      <td>30455</td>\n",
       "      <td>0</td>\n",
       "      <td>0</td>\n",
       "      <td>0</td>\n",
       "    </tr>\n",
       "    <tr>\n",
       "      <th>1</th>\n",
       "      <td>24</td>\n",
       "      <td>-3</td>\n",
       "      <td>80000</td>\n",
       "      <td>5000</td>\n",
       "      <td>4176</td>\n",
       "      <td>4000</td>\n",
       "      <td>-1</td>\n",
       "      <td>-1</td>\n",
       "      <td>-1</td>\n",
       "      <td>75356</td>\n",
       "      <td>78236</td>\n",
       "      <td>77700</td>\n",
       "      <td>0</td>\n",
       "      <td>0</td>\n",
       "      <td>0</td>\n",
       "    </tr>\n",
       "    <tr>\n",
       "      <th>2</th>\n",
       "      <td>28</td>\n",
       "      <td>-3</td>\n",
       "      <td>90000</td>\n",
       "      <td>1500</td>\n",
       "      <td>1500</td>\n",
       "      <td>1508</td>\n",
       "      <td>-1</td>\n",
       "      <td>-1</td>\n",
       "      <td>-1</td>\n",
       "      <td>24657</td>\n",
       "      <td>25743</td>\n",
       "      <td>26406</td>\n",
       "      <td>1</td>\n",
       "      <td>0</td>\n",
       "      <td>1</td>\n",
       "    </tr>\n",
       "    <tr>\n",
       "      <th>3</th>\n",
       "      <td>27</td>\n",
       "      <td>-3</td>\n",
       "      <td>50000</td>\n",
       "      <td>493</td>\n",
       "      <td>493</td>\n",
       "      <td>493</td>\n",
       "      <td>-1</td>\n",
       "      <td>-1</td>\n",
       "      <td>-1</td>\n",
       "      <td>492</td>\n",
       "      <td>492</td>\n",
       "      <td>492</td>\n",
       "      <td>1</td>\n",
       "      <td>0</td>\n",
       "      <td>1</td>\n",
       "    </tr>\n",
       "    <tr>\n",
       "      <th>4</th>\n",
       "      <td>32</td>\n",
       "      <td>-3</td>\n",
       "      <td>270000</td>\n",
       "      <td>6500</td>\n",
       "      <td>6843</td>\n",
       "      <td>6284</td>\n",
       "      <td>-1</td>\n",
       "      <td>-1</td>\n",
       "      <td>-1</td>\n",
       "      <td>116315</td>\n",
       "      <td>119103</td>\n",
       "      <td>122249</td>\n",
       "      <td>1</td>\n",
       "      <td>0</td>\n",
       "      <td>1</td>\n",
       "    </tr>\n",
       "  </tbody>\n",
       "</table>\n",
       "</div>"
      ],
      "text/plain": [
       "   AGE  sum_code  CREDIT  PAY_AMT_FEB  PAY_AMT_JAN  PAY_AMT_DEC  PAY_FEB  \\\n",
       "0   22        -3   50000        10000         1175         2000       -1   \n",
       "1   24        -3   80000         5000         4176         4000       -1   \n",
       "2   28        -3   90000         1500         1500         1508       -1   \n",
       "3   27        -3   50000          493          493          493       -1   \n",
       "4   32        -3  270000         6500         6843         6284       -1   \n",
       "\n",
       "   PAY_JAN  PAY_DEC  BILL_AMT_FEB  BILL_AMT_JAN  BILL_AMT_DEC  EDUCATION  \\\n",
       "0       -1       -1         24763         33542         30455          0   \n",
       "1       -1       -1         75356         78236         77700          0   \n",
       "2       -1       -1         24657         25743         26406          1   \n",
       "3       -1       -1           492           492           492          1   \n",
       "4       -1       -1        116315        119103        122249          1   \n",
       "\n",
       "   GENDER  MARRIAGE  \n",
       "0       0         0  \n",
       "1       0         0  \n",
       "2       0         1  \n",
       "3       0         1  \n",
       "4       0         1  "
      ]
     },
     "execution_count": 34,
     "metadata": {},
     "output_type": "execute_result"
    }
   ],
   "source": [
    "df_test=df_test[features]\n",
    "df_test.head()"
   ]
  },
  {
   "cell_type": "code",
   "execution_count": 35,
   "id": "abbae914",
   "metadata": {},
   "outputs": [],
   "source": [
    "df_preds = df_test.copy()\n",
    "df_preds[\"preds\"]=list(best_model.predict(df_preds))"
   ]
  },
  {
   "cell_type": "code",
   "execution_count": 36,
   "id": "8d5c5cee",
   "metadata": {},
   "outputs": [
    {
     "data": {
      "text/plain": [
       "0    12759\n",
       "1     2241\n",
       "Name: preds, dtype: int64"
      ]
     },
     "execution_count": 36,
     "metadata": {},
     "output_type": "execute_result"
    }
   ],
   "source": [
    "df_preds[\"preds\"].value_counts()"
   ]
  },
  {
   "cell_type": "markdown",
   "id": "63707ca4",
   "metadata": {},
   "source": [
    "As we see in the test data almost 12838 SMEs will not Default in march and only 2162 SMEs will default which is about ~14.9% of the SMEs"
   ]
  },
  {
   "cell_type": "markdown",
   "id": "1f181122",
   "metadata": {},
   "source": [
    "#### Few next steps of Improvement.\n",
    "\n",
    "1. Gridsearch on the Gradient Boosting best model\n",
    "2. Develop some feature based on % of payments and check if those make any impact"
   ]
  },
  {
   "cell_type": "markdown",
   "id": "05355b66",
   "metadata": {},
   "source": [
    "### Grid Search on the best model \n",
    "\n",
    "For any Gradient Boosting Classifier there are 3 different kinds of parameters to be tuned\n",
    "1. Tree-Specific Parameters: Min sample split, max depth, leaf nodes etc\n",
    "2. Boosting Parameters: learning rate, sampling rate etc\n",
    "3. Miscellaneous Parameters: loss, random state etc.\n",
    "\n",
    "We will focus on tree specific parameters only for the time being. \n",
    "\n",
    "The data is the 50:50 class distribution data as we obtain from the best model above"
   ]
  },
  {
   "cell_type": "code",
   "execution_count": 37,
   "id": "c9518e20",
   "metadata": {},
   "outputs": [],
   "source": [
    "from sklearn.model_selection import cross_val_score\n",
    "import numpy as np\n",
    "df_final = pd.concat([df_no_default.sample(round(len(df_default)*0.5/(1-0.5))),df_default])"
   ]
  },
  {
   "cell_type": "code",
   "execution_count": 38,
   "id": "24a3e66d",
   "metadata": {},
   "outputs": [],
   "source": [
    "cv_score = cross_val_score(best_model, df_final[features], df_final[class_tag], cv=5, scoring='roc_auc')"
   ]
  },
  {
   "cell_type": "code",
   "execution_count": 39,
   "id": "f47eee3e",
   "metadata": {},
   "outputs": [
    {
     "name": "stdout",
     "output_type": "stream",
     "text": [
      "0.7503226912119221 0.015250792774658743 0.7309215428446199 0.7755029585798818\n"
     ]
    }
   ],
   "source": [
    "print(np.mean(cv_score),np.std(cv_score),np.min(cv_score),np.max(cv_score))"
   ]
  },
  {
   "cell_type": "code",
   "execution_count": 45,
   "id": "f47f8ac5",
   "metadata": {},
   "outputs": [
    {
     "data": {
      "text/plain": [
       "GridSearchCV(cv=5,\n",
       "             estimator=GradientBoostingClassifier(max_depth=8,\n",
       "                                                  max_features='sqrt',\n",
       "                                                  min_samples_leaf=50,\n",
       "                                                  min_samples_split=20,\n",
       "                                                  random_state=10,\n",
       "                                                  subsample=0.8),\n",
       "             iid=False, n_jobs=4,\n",
       "             param_grid={'n_estimators': range(10, 101, 10)},\n",
       "             scoring='roc_auc')"
      ]
     },
     "execution_count": 45,
     "metadata": {},
     "output_type": "execute_result"
    }
   ],
   "source": [
    "param_test1 = {'n_estimators':range(10,101,10)}\n",
    "gsearch1 = GridSearchCV(estimator = GradientBoostingClassifier(learning_rate=0.1, min_samples_split=20,min_samples_leaf=50,max_depth=8,max_features='sqrt',subsample=0.8,random_state=10), \n",
    "                param_grid = param_test1, scoring='roc_auc',n_jobs=4,iid=False, cv=5)\n",
    "gsearch1.fit(df_final[features], df_final[class_tag])"
   ]
  },
  {
   "cell_type": "code",
   "execution_count": 46,
   "id": "d76b81cc",
   "metadata": {},
   "outputs": [
    {
     "data": {
      "text/plain": [
       "({'n_estimators': 20}, 0.7529341190412415)"
      ]
     },
     "execution_count": 46,
     "metadata": {},
     "output_type": "execute_result"
    }
   ],
   "source": [
    "gsearch1.best_params_, gsearch1.best_score_"
   ]
  },
  {
   "cell_type": "code",
   "execution_count": 47,
   "id": "f6fccdca",
   "metadata": {},
   "outputs": [
    {
     "data": {
      "text/plain": [
       "GridSearchCV(cv=5,\n",
       "             estimator=GradientBoostingClassifier(max_features='sqrt',\n",
       "                                                  n_estimators=20,\n",
       "                                                  random_state=10,\n",
       "                                                  subsample=0.8),\n",
       "             iid=False, n_jobs=4,\n",
       "             param_grid={'max_depth': range(5, 16, 2),\n",
       "                         'min_samples_split': range(200, 1001, 200)},\n",
       "             scoring='roc_auc')"
      ]
     },
     "execution_count": 47,
     "metadata": {},
     "output_type": "execute_result"
    }
   ],
   "source": [
    "param_test2 = {'max_depth':range(5,16,2), 'min_samples_split':range(200,1001,200)}\n",
    "gsearch2 = GridSearchCV(estimator = GradientBoostingClassifier(learning_rate=0.1, n_estimators=20, max_features='sqrt', subsample=0.8, random_state=10), \n",
    "param_grid = param_test2, scoring='roc_auc',n_jobs=4,iid=False, cv=5)\n",
    "gsearch2.fit(df_final[features], df_final[class_tag])"
   ]
  },
  {
   "cell_type": "code",
   "execution_count": 48,
   "id": "0329b0e9",
   "metadata": {},
   "outputs": [
    {
     "data": {
      "text/plain": [
       "({'max_depth': 7, 'min_samples_split': 800}, 0.7533734976177141)"
      ]
     },
     "execution_count": 48,
     "metadata": {},
     "output_type": "execute_result"
    }
   ],
   "source": [
    "gsearch2.best_params_, gsearch2.best_score_"
   ]
  },
  {
   "cell_type": "code",
   "execution_count": 50,
   "id": "2e74d7c0",
   "metadata": {},
   "outputs": [
    {
     "data": {
      "text/plain": [
       "GridSearchCV(cv=5,\n",
       "             estimator=GradientBoostingClassifier(max_depth=7,\n",
       "                                                  max_features='sqrt',\n",
       "                                                  n_estimators=50,\n",
       "                                                  random_state=10,\n",
       "                                                  subsample=0.8),\n",
       "             iid=False, n_jobs=4,\n",
       "             param_grid={'min_samples_leaf': range(30, 71, 10),\n",
       "                         'min_samples_split': range(600, 1800, 200)},\n",
       "             scoring='roc_auc')"
      ]
     },
     "execution_count": 50,
     "metadata": {},
     "output_type": "execute_result"
    }
   ],
   "source": [
    "param_test3 = {'min_samples_split':range(600,1800,200), 'min_samples_leaf':range(30,71,10)}\n",
    "gsearch3 = GridSearchCV(estimator = GradientBoostingClassifier(learning_rate=0.1, n_estimators=50,max_depth=7,max_features='sqrt', subsample=0.8, random_state=10), \n",
    "param_grid = param_test3, scoring='roc_auc',n_jobs=4,iid=False, cv=5)\n",
    "gsearch3.fit(df_final[features], df_final[class_tag])"
   ]
  },
  {
   "cell_type": "code",
   "execution_count": 51,
   "id": "4e638241",
   "metadata": {},
   "outputs": [
    {
     "data": {
      "text/plain": [
       "({'min_samples_leaf': 30, 'min_samples_split': 1400}, 0.755349071192604)"
      ]
     },
     "execution_count": 51,
     "metadata": {},
     "output_type": "execute_result"
    }
   ],
   "source": [
    "gsearch3.best_params_, gsearch3.best_score_"
   ]
  },
  {
   "cell_type": "code",
   "execution_count": 53,
   "id": "86e034ec",
   "metadata": {},
   "outputs": [
    {
     "data": {
      "text/plain": [
       "array([0.01314916, 0.22352928, 0.03878358, 0.05963571, 0.03202073,\n",
       "       0.06320676, 0.27324335, 0.1041683 , 0.09228614, 0.02865634,\n",
       "       0.02640567, 0.02243258, 0.01233525, 0.00213983, 0.00800732])"
      ]
     },
     "execution_count": 53,
     "metadata": {},
     "output_type": "execute_result"
    }
   ],
   "source": [
    "gsearch3.best_estimator_.fit(df_final[features], df_final[class_tag]).feature_importances_"
   ]
  },
  {
   "cell_type": "code",
   "execution_count": 52,
   "id": "9220b60b",
   "metadata": {},
   "outputs": [
    {
     "data": {
      "text/plain": [
       "({'max_features': 9}, 0.7552447571042443)"
      ]
     },
     "execution_count": 52,
     "metadata": {},
     "output_type": "execute_result"
    }
   ],
   "source": [
    "param_test4 = {'max_features':range(7,20,2)}\n",
    "gsearch4 = GridSearchCV(estimator = GradientBoostingClassifier(learning_rate=0.1, n_estimators=50,max_depth=13, min_samples_split=1400, min_samples_leaf=30, subsample=0.8, random_state=10),\n",
    "param_grid = param_test4, scoring='roc_auc',n_jobs=4,iid=False, cv=5)\n",
    "gsearch4.fit(df_final[features], df_final[class_tag])\n",
    "gsearch4.best_params_, gsearch4.best_score_"
   ]
  },
  {
   "cell_type": "code",
   "execution_count": 54,
   "id": "9ab0436e",
   "metadata": {},
   "outputs": [
    {
     "name": "stdout",
     "output_type": "stream",
     "text": [
      "        features  importance_value\n",
      "6        PAY_FEB          0.273243\n",
      "1       sum_code          0.223529\n",
      "7        PAY_JAN          0.104168\n",
      "8        PAY_DEC          0.092286\n",
      "5    PAY_AMT_DEC          0.063207\n",
      "3    PAY_AMT_FEB          0.059636\n",
      "2         CREDIT          0.038784\n",
      "4    PAY_AMT_JAN          0.032021\n",
      "9   BILL_AMT_FEB          0.028656\n",
      "10  BILL_AMT_JAN          0.026406\n",
      "11  BILL_AMT_DEC          0.022433\n",
      "0            AGE          0.013149\n",
      "12     EDUCATION          0.012335\n",
      "14      MARRIAGE          0.008007\n",
      "13        GENDER          0.002140\n"
     ]
    },
    {
     "data": {
      "image/png": "[encoded data removed]",
      "text/plain": [
       "<Figure size 1296x1080 with 1 Axes>"
      ]
     },
     "metadata": {
      "needs_background": "light"
     },
     "output_type": "display_data"
    }
   ],
   "source": [
    "## Since the score dipped we are using the previous model to predict\n",
    "df_feature_importance_gs= pd.DataFrame({\"features\":features,\"importance_value\":gsearch3.best_estimator_.fit(df_final[features], df_final[class_tag]).feature_importances_})\n",
    "print(df_feature_importance_gs.sort_values(\"importance_value\",ascending=False))\n",
    "plt.figure(figsize = (18,15))\n",
    "g = sns.barplot(x=\"features\", y=\"importance_value\",\n",
    "                data=df_feature_importance_gs, \n",
    "                                   palette=\"rocket\")\n",
    "g.set_yscale(\"log\")\n"
   ]
  },
  {
   "cell_type": "code",
   "execution_count": 55,
   "id": "d49ce4be",
   "metadata": {},
   "outputs": [],
   "source": [
    "preds = (gsearch3.best_estimator_.predict(df_test))"
   ]
  },
  {
   "cell_type": "code",
   "execution_count": 56,
   "id": "d5faff95",
   "metadata": {},
   "outputs": [],
   "source": [
    "df_preds1 = df_test.copy()\n",
    "df_preds1[\"preds\"]=preds"
   ]
  },
  {
   "cell_type": "code",
   "execution_count": 57,
   "id": "bf48cce4",
   "metadata": {},
   "outputs": [
    {
     "data": {
      "text/html": [
       "<div>\n",
       "<style scoped>\n",
       "    .dataframe tbody tr th:only-of-type {\n",
       "        vertical-align: middle;\n",
       "    }\n",
       "\n",
       "    .dataframe tbody tr th {\n",
       "        vertical-align: top;\n",
       "    }\n",
       "\n",
       "    .dataframe thead th {\n",
       "        text-align: right;\n",
       "    }\n",
       "</style>\n",
       "<table border=\"1\" class=\"dataframe\">\n",
       "  <thead>\n",
       "    <tr style=\"text-align: right;\">\n",
       "      <th>preds</th>\n",
       "      <th>sum_code</th>\n",
       "      <th>NO_DEFAULT</th>\n",
       "      <th>DEFAULT</th>\n",
       "      <th>All</th>\n",
       "    </tr>\n",
       "  </thead>\n",
       "  <tbody>\n",
       "    <tr>\n",
       "      <th>10</th>\n",
       "      <td>8</td>\n",
       "      <td>0.000000</td>\n",
       "      <td>1.000000</td>\n",
       "      <td>1.0</td>\n",
       "    </tr>\n",
       "    <tr>\n",
       "      <th>18</th>\n",
       "      <td>18</td>\n",
       "      <td>0.000000</td>\n",
       "      <td>1.000000</td>\n",
       "      <td>1.0</td>\n",
       "    </tr>\n",
       "    <tr>\n",
       "      <th>16</th>\n",
       "      <td>15</td>\n",
       "      <td>0.000000</td>\n",
       "      <td>1.000000</td>\n",
       "      <td>1.0</td>\n",
       "    </tr>\n",
       "    <tr>\n",
       "      <th>15</th>\n",
       "      <td>13</td>\n",
       "      <td>0.000000</td>\n",
       "      <td>1.000000</td>\n",
       "      <td>1.0</td>\n",
       "    </tr>\n",
       "    <tr>\n",
       "      <th>14</th>\n",
       "      <td>12</td>\n",
       "      <td>0.000000</td>\n",
       "      <td>1.000000</td>\n",
       "      <td>1.0</td>\n",
       "    </tr>\n",
       "    <tr>\n",
       "      <th>13</th>\n",
       "      <td>11</td>\n",
       "      <td>0.000000</td>\n",
       "      <td>1.000000</td>\n",
       "      <td>1.0</td>\n",
       "    </tr>\n",
       "    <tr>\n",
       "      <th>12</th>\n",
       "      <td>10</td>\n",
       "      <td>0.000000</td>\n",
       "      <td>1.000000</td>\n",
       "      <td>1.0</td>\n",
       "    </tr>\n",
       "    <tr>\n",
       "      <th>11</th>\n",
       "      <td>9</td>\n",
       "      <td>0.000000</td>\n",
       "      <td>1.000000</td>\n",
       "      <td>1.0</td>\n",
       "    </tr>\n",
       "    <tr>\n",
       "      <th>9</th>\n",
       "      <td>7</td>\n",
       "      <td>0.000000</td>\n",
       "      <td>1.000000</td>\n",
       "      <td>1.0</td>\n",
       "    </tr>\n",
       "    <tr>\n",
       "      <th>8</th>\n",
       "      <td>6</td>\n",
       "      <td>0.000000</td>\n",
       "      <td>1.000000</td>\n",
       "      <td>1.0</td>\n",
       "    </tr>\n",
       "    <tr>\n",
       "      <th>7</th>\n",
       "      <td>5</td>\n",
       "      <td>0.000000</td>\n",
       "      <td>1.000000</td>\n",
       "      <td>1.0</td>\n",
       "    </tr>\n",
       "    <tr>\n",
       "      <th>6</th>\n",
       "      <td>4</td>\n",
       "      <td>0.000000</td>\n",
       "      <td>1.000000</td>\n",
       "      <td>1.0</td>\n",
       "    </tr>\n",
       "    <tr>\n",
       "      <th>5</th>\n",
       "      <td>3</td>\n",
       "      <td>0.000000</td>\n",
       "      <td>1.000000</td>\n",
       "      <td>1.0</td>\n",
       "    </tr>\n",
       "    <tr>\n",
       "      <th>3</th>\n",
       "      <td>1</td>\n",
       "      <td>0.000000</td>\n",
       "      <td>1.000000</td>\n",
       "      <td>1.0</td>\n",
       "    </tr>\n",
       "    <tr>\n",
       "      <th>17</th>\n",
       "      <td>17</td>\n",
       "      <td>0.000000</td>\n",
       "      <td>1.000000</td>\n",
       "      <td>1.0</td>\n",
       "    </tr>\n",
       "    <tr>\n",
       "      <th>4</th>\n",
       "      <td>2</td>\n",
       "      <td>0.004367</td>\n",
       "      <td>0.995633</td>\n",
       "      <td>1.0</td>\n",
       "    </tr>\n",
       "    <tr>\n",
       "      <th>2</th>\n",
       "      <td>0</td>\n",
       "      <td>0.050938</td>\n",
       "      <td>0.949062</td>\n",
       "      <td>1.0</td>\n",
       "    </tr>\n",
       "    <tr>\n",
       "      <th>1</th>\n",
       "      <td>-1</td>\n",
       "      <td>0.288385</td>\n",
       "      <td>0.711615</td>\n",
       "      <td>1.0</td>\n",
       "    </tr>\n",
       "    <tr>\n",
       "      <th>19</th>\n",
       "      <td>All</td>\n",
       "      <td>0.720933</td>\n",
       "      <td>0.279067</td>\n",
       "      <td>1.0</td>\n",
       "    </tr>\n",
       "    <tr>\n",
       "      <th>0</th>\n",
       "      <td>-3</td>\n",
       "      <td>0.962993</td>\n",
       "      <td>0.037007</td>\n",
       "      <td>1.0</td>\n",
       "    </tr>\n",
       "  </tbody>\n",
       "</table>\n",
       "</div>"
      ],
      "text/plain": [
       "preds sum_code  NO_DEFAULT   DEFAULT  All\n",
       "10           8    0.000000  1.000000  1.0\n",
       "18          18    0.000000  1.000000  1.0\n",
       "16          15    0.000000  1.000000  1.0\n",
       "15          13    0.000000  1.000000  1.0\n",
       "14          12    0.000000  1.000000  1.0\n",
       "13          11    0.000000  1.000000  1.0\n",
       "12          10    0.000000  1.000000  1.0\n",
       "11           9    0.000000  1.000000  1.0\n",
       "9            7    0.000000  1.000000  1.0\n",
       "8            6    0.000000  1.000000  1.0\n",
       "7            5    0.000000  1.000000  1.0\n",
       "6            4    0.000000  1.000000  1.0\n",
       "5            3    0.000000  1.000000  1.0\n",
       "3            1    0.000000  1.000000  1.0\n",
       "17          17    0.000000  1.000000  1.0\n",
       "4            2    0.004367  0.995633  1.0\n",
       "2            0    0.050938  0.949062  1.0\n",
       "1           -1    0.288385  0.711615  1.0\n",
       "19         All    0.720933  0.279067  1.0\n",
       "0           -3    0.962993  0.037007  1.0"
      ]
     },
     "execution_count": 57,
     "metadata": {},
     "output_type": "execute_result"
    }
   ],
   "source": [
    "df_preds1[\"sum_code\"]=df_preds1.apply(lambda row:row.PAY_FEB+row.PAY_JAN+row.PAY_DEC,axis=1)\n",
    "perc_tab,data_tab=get_data_crosstab(df_preds1,\"preds\",\"sum_code\")\n",
    "pd.DataFrame(perc_tab).transpose().reset_index().sort_values(\"DEFAULT\",ascending=False)"
   ]
  },
  {
   "cell_type": "code",
   "execution_count": 58,
   "id": "6152e4ae",
   "metadata": {},
   "outputs": [
    {
     "data": {
      "text/plain": [
       "0    10814\n",
       "1     4186\n",
       "Name: preds, dtype: int64"
      ]
     },
     "execution_count": 58,
     "metadata": {},
     "output_type": "execute_result"
    }
   ],
   "source": [
    "df_preds1[\"preds\"].value_counts()"
   ]
  },
  {
   "cell_type": "markdown",
   "id": "3e4119a1",
   "metadata": {},
   "source": [
    "### Conclusion\n",
    "\n",
    "We obtain 3 different types of model. The baseline one which was improved by the Gradient Boosting model which incorporated the undersampling technique to handle class imbalance and then finally another Gradient Boosting model optimized on its various tree based hyperparameters.\n",
    "\n",
    "We see the the GB model vs Grid Search GB model there is a change in the feature importance. In the first case where SUM_CODE (***an engineered feature to ascertain payment continuity***) was important at almost 55%, more than all the other features combined in the Grid Search model the importance across many variables are fairly distributed with other features about payment delays and payment amounts of the recent months\n",
    "\n",
    "With regard to final predictions, in the GB model the percentage of DEFAULT in MAR is 14% vs 27.9% in the Grid Search GB model. Given false negatives (classifying defaults as non defaults) are costlier in this case the conservative model can be preferred over the GB model. However if the underwriting apetite is low we can prefer the lenient model"
   ]
  },
  {
   "cell_type": "code",
   "execution_count": null,
   "id": "7382d05a",
   "metadata": {},
   "outputs": [],
   "source": []
  }
 ],
 "metadata": {
  "kernelspec": {
   "display_name": "Python 3",
   "language": "python",
   "name": "python3"
  },
  "language_info": {
   "codemirror_mode": {
    "name": "ipython",
    "version": 3
   },
   "file_extension": ".py",
   "mimetype": "text/x-python",
   "name": "python",
   "nbconvert_exporter": "python",
   "pygments_lexer": "ipython3",
   "version": "3.6.9"
  }
 },
 "nbformat": 4,
 "nbformat_minor": 5
}
