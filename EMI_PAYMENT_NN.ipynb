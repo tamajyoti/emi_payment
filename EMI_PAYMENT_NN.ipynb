{
 "cells": [
  {
   "cell_type": "code",
   "execution_count": 3,
   "id": "932a5bbc",
   "metadata": {},
   "outputs": [],
   "source": [
    "import torch\n",
    "import torch.nn as nn\n",
    "import numpy as np\n",
    "import pandas as pd\n",
    "import matplotlib.pyplot as plt\n",
    "import seaborn as sns\n",
    "%matplotlib inline"
   ]
  },
  {
   "cell_type": "code",
   "execution_count": 37,
   "id": "0575aa21",
   "metadata": {},
   "outputs": [],
   "source": [
    "df = pd.read_csv(\"credit_history_train.csv\")"
   ]
  },
  {
   "cell_type": "code",
   "execution_count": 38,
   "id": "855bce45",
   "metadata": {},
   "outputs": [
    {
     "data": {
      "text/plain": [
       "Index(['ID', 'CREDIT', 'GENDER', 'EDUCATION', 'MARRIAGE', 'AGE', 'PAY_FEB',\n",
       "       'PAY_JAN', 'PAY_DEC', 'BILL_AMT_FEB', 'BILL_AMT_JAN', 'BILL_AMT_DEC',\n",
       "       'PAY_AMT_FEB', 'PAY_AMT_JAN', 'PAY_AMT_DEC', 'DEFAULT_MAR'],\n",
       "      dtype='object')"
      ]
     },
     "execution_count": 38,
     "metadata": {},
     "output_type": "execute_result"
    }
   ],
   "source": [
    "df.columns"
   ]
  },
  {
   "cell_type": "code",
   "execution_count": 39,
   "id": "8955baa6",
   "metadata": {},
   "outputs": [],
   "source": [
    "df_default=df[df.DEFAULT_MAR==1]\n",
    "df_no_default=df[df.DEFAULT_MAR==0]"
   ]
  },
  {
   "cell_type": "code",
   "execution_count": 60,
   "id": "12830982",
   "metadata": {},
   "outputs": [
    {
     "data": {
      "text/plain": [
       "1    3377\n",
       "0    3377\n",
       "Name: DEFAULT_MAR, dtype: int64"
      ]
     },
     "execution_count": 60,
     "metadata": {},
     "output_type": "execute_result"
    }
   ],
   "source": [
    "dataset = pd.concat([df_no_default.sample(round(len(df_default)*0.5/0.5)),df_default])\n",
    "dataset[\"DEFAULT_MAR\"].value_counts()"
   ]
  },
  {
   "cell_type": "code",
   "execution_count": 61,
   "id": "2df397aa",
   "metadata": {},
   "outputs": [],
   "source": [
    "categorical_columns = ['GENDER', 'EDUCATION', 'MARRIAGE','PAY_FEB',\n",
    "       'PAY_JAN', 'PAY_DEC']\n",
    "numerical_columns = ['CREDIT', 'AGE', 'BILL_AMT_FEB', 'BILL_AMT_JAN', 'BILL_AMT_DEC',\n",
    "       'PAY_AMT_FEB', 'PAY_AMT_JAN', 'PAY_AMT_DEC']\n",
    "outputs = ['DEFAULT_MAR']"
   ]
  },
  {
   "cell_type": "code",
   "execution_count": 62,
   "id": "c6471157",
   "metadata": {},
   "outputs": [],
   "source": [
    "for category in categorical_columns:\n",
    "    dataset[category] = dataset[category].astype('category')"
   ]
  },
  {
   "cell_type": "code",
   "execution_count": 63,
   "id": "c6dba049",
   "metadata": {},
   "outputs": [],
   "source": [
    "gen = dataset['GENDER'].cat.codes.values\n",
    "edu = dataset['EDUCATION'].cat.codes.values\n",
    "marr = dataset['MARRIAGE'].cat.codes.values\n",
    "pay_f = dataset['PAY_FEB'].cat.codes.values\n",
    "pay_j = dataset['PAY_JAN'].cat.codes.values\n",
    "pay_d = dataset['PAY_DEC'].cat.codes.values\n",
    "\n",
    "categorical_data = np.stack([gen,edu,marr,pay_f,pay_j,pay_d], 1)"
   ]
  },
  {
   "cell_type": "code",
   "execution_count": 64,
   "id": "c575ad0f",
   "metadata": {},
   "outputs": [],
   "source": [
    "categorical_data = torch.tensor(categorical_data, dtype=torch.int64)"
   ]
  },
  {
   "cell_type": "code",
   "execution_count": 65,
   "id": "73b86b7e",
   "metadata": {},
   "outputs": [
    {
     "data": {
      "text/plain": [
       "tensor([[ 2.3000e+05,  2.9000e+01, -5.0000e+00, -5.0000e+00,  2.9690e+03,\n",
       "          0.0000e+00,  2.9740e+03,  3.4250e+03],\n",
       "        [ 2.0000e+04,  2.4000e+01,  2.5220e+03,  3.9000e+02,  0.0000e+00,\n",
       "          3.9000e+02,  0.0000e+00,  7.8000e+02],\n",
       "        [ 1.6000e+05,  4.0000e+01,  1.4798e+05,  1.4989e+05,  1.2428e+05,\n",
       "          6.0000e+03,  4.3700e+03,  4.4000e+03],\n",
       "        [ 5.0000e+04,  5.4000e+01,  4.8403e+04,  4.8119e+04,  4.3590e+04,\n",
       "          2.0200e+03,  3.1280e+03,  1.0000e+03],\n",
       "        [ 5.0000e+04,  3.5000e+01,  4.8829e+04,  4.9789e+04,  1.9726e+04,\n",
       "          2.0460e+03,  3.0000e+03,  1.5000e+03]])"
      ]
     },
     "execution_count": 65,
     "metadata": {},
     "output_type": "execute_result"
    }
   ],
   "source": [
    "numerical_data = np.stack([dataset[col].values for col in numerical_columns], 1)\n",
    "numerical_data = torch.tensor(numerical_data, dtype=torch.float)\n",
    "numerical_data[:5]"
   ]
  },
  {
   "cell_type": "code",
   "execution_count": 66,
   "id": "7e0e2d9e",
   "metadata": {},
   "outputs": [
    {
     "data": {
      "text/plain": [
       "tensor([0, 0, 0, 0, 0])"
      ]
     },
     "execution_count": 66,
     "metadata": {},
     "output_type": "execute_result"
    }
   ],
   "source": [
    "outputs = torch.tensor(dataset[outputs].values).flatten()\n",
    "outputs[:5]"
   ]
  },
  {
   "cell_type": "code",
   "execution_count": 47,
   "id": "a4554338",
   "metadata": {},
   "outputs": [
    {
     "name": "stdout",
     "output_type": "stream",
     "text": [
      "[(2, 1), (5, 3), (3, 2), (7, 4), (7, 4), (7, 4)]\n"
     ]
    }
   ],
   "source": [
    "categorical_column_sizes = [len(dataset[column].cat.categories) for column in categorical_columns]\n",
    "categorical_embedding_sizes = [(col_size, min(50, (col_size+1)//2)) for col_size in categorical_column_sizes]\n",
    "print(categorical_embedding_sizes)"
   ]
  },
  {
   "cell_type": "code",
   "execution_count": 72,
   "id": "e3e77b4f",
   "metadata": {},
   "outputs": [
    {
     "data": {
      "text/plain": [
       "torch.Tensor"
      ]
     },
     "execution_count": 72,
     "metadata": {},
     "output_type": "execute_result"
    }
   ],
   "source": [
    "type(categorical_data)"
   ]
  },
  {
   "cell_type": "code",
   "execution_count": 99,
   "id": "c8c0e7fc",
   "metadata": {},
   "outputs": [],
   "source": [
    "import random\n",
    "random.seed(42)\n",
    "test_index_list=(random.sample(range(len(outputs)), int(total_records * .2)))\n",
    "train_index_list = [i for i in range(len(outputs)) if i not in test_index_list]"
   ]
  },
  {
   "cell_type": "code",
   "execution_count": 100,
   "id": "6dd9d202",
   "metadata": {},
   "outputs": [],
   "source": [
    "categorical_train_data = categorical_data[train_index_list]\n",
    "categorical_test_data = categorical_data[test_index_list]\n",
    "numerical_train_data = numerical_data[train_index_list]\n",
    "numerical_test_data = numerical_data[test_index_list]\n",
    "train_outputs = outputs[train_index_list]\n",
    "test_outputs = outputs[test_index_list]"
   ]
  },
  {
   "cell_type": "code",
   "execution_count": null,
   "id": "c32d2801",
   "metadata": {},
   "outputs": [],
   "source": []
  },
  {
   "cell_type": "code",
   "execution_count": 101,
   "id": "7c74d241",
   "metadata": {},
   "outputs": [
    {
     "name": "stdout",
     "output_type": "stream",
     "text": [
      "5404\n",
      "5404\n",
      "5404\n",
      "1350\n",
      "1350\n",
      "1350\n"
     ]
    }
   ],
   "source": [
    "print(len(categorical_train_data))\n",
    "print(len(numerical_train_data))\n",
    "print(len(train_outputs))\n",
    "\n",
    "print(len(categorical_test_data))\n",
    "print(len(numerical_test_data))\n",
    "print(len(test_outputs))"
   ]
  },
  {
   "cell_type": "code",
   "execution_count": 102,
   "id": "f0099d6f",
   "metadata": {},
   "outputs": [],
   "source": [
    "class Model(nn.Module):\n",
    "\n",
    "    def __init__(self, embedding_size, num_numerical_cols, output_size, layers, p=0.4):\n",
    "        super().__init__()\n",
    "        self.all_embeddings = nn.ModuleList([nn.Embedding(ni, nf) for ni, nf in embedding_size])\n",
    "        self.embedding_dropout = nn.Dropout(p)\n",
    "        self.batch_norm_num = nn.BatchNorm1d(num_numerical_cols)\n",
    "\n",
    "        all_layers = []\n",
    "        num_categorical_cols = sum((nf for ni, nf in embedding_size))\n",
    "        input_size = num_categorical_cols + num_numerical_cols\n",
    "\n",
    "        for i in layers:\n",
    "            all_layers.append(nn.Linear(input_size, i))\n",
    "            all_layers.append(nn.ReLU(inplace=True))\n",
    "            all_layers.append(nn.BatchNorm1d(i))\n",
    "            all_layers.append(nn.Dropout(p))\n",
    "            input_size = i\n",
    "\n",
    "        all_layers.append(nn.Linear(layers[-1], output_size))\n",
    "\n",
    "        self.layers = nn.Sequential(*all_layers)\n",
    "\n",
    "    def forward(self, x_categorical, x_numerical):\n",
    "        embeddings = []\n",
    "        for i,e in enumerate(self.all_embeddings):\n",
    "            embeddings.append(e(x_categorical[:,i]))\n",
    "        x = torch.cat(embeddings, 1)\n",
    "        x = self.embedding_dropout(x)\n",
    "\n",
    "        x_numerical = self.batch_norm_num(x_numerical)\n",
    "        x = torch.cat([x, x_numerical], 1)\n",
    "        x = self.layers(x)\n",
    "        return x"
   ]
  },
  {
   "cell_type": "code",
   "execution_count": 103,
   "id": "b3571068",
   "metadata": {},
   "outputs": [],
   "source": [
    "model = Model(categorical_embedding_sizes, numerical_data.shape[1], 2, [200,100,50], p=0.4)"
   ]
  },
  {
   "cell_type": "code",
   "execution_count": 104,
   "id": "1dc68836",
   "metadata": {},
   "outputs": [],
   "source": [
    "loss_function = nn.CrossEntropyLoss()\n",
    "optimizer = torch.optim.Adam(model.parameters(), lr=0.001)"
   ]
  },
  {
   "cell_type": "code",
   "execution_count": 105,
   "id": "f8807a14",
   "metadata": {},
   "outputs": [
    {
     "name": "stdout",
     "output_type": "stream",
     "text": [
      "epoch:   1 loss: 0.84499681\n",
      "epoch:  26 loss: 0.64089239\n",
      "epoch:  51 loss: 0.63474852\n",
      "epoch:  76 loss: 0.62126613\n",
      "epoch: 101 loss: 0.61876106\n",
      "epoch: 126 loss: 0.61176306\n",
      "epoch: 151 loss: 0.60854071\n",
      "epoch: 176 loss: 0.60768241\n",
      "epoch: 201 loss: 0.60505652\n",
      "epoch: 226 loss: 0.60664809\n",
      "epoch: 251 loss: 0.60202533\n",
      "epoch: 276 loss: 0.60082847\n",
      "epoch: 300 loss: 0.6027570963\n"
     ]
    }
   ],
   "source": [
    "epochs = 300\n",
    "aggregated_losses = []\n",
    "\n",
    "for i in range(epochs):\n",
    "    i += 1\n",
    "    y_pred = model(categorical_train_data, numerical_train_data)\n",
    "    single_loss = loss_function(y_pred, train_outputs)\n",
    "    aggregated_losses.append(single_loss)\n",
    "\n",
    "    if i%25 == 1:\n",
    "        print(f'epoch: {i:3} loss: {single_loss.item():10.8f}')\n",
    "\n",
    "    optimizer.zero_grad()\n",
    "    single_loss.backward()\n",
    "    optimizer.step()\n",
    "\n",
    "print(f'epoch: {i:3} loss: {single_loss.item():10.10f}')"
   ]
  },
  {
   "cell_type": "code",
   "execution_count": 106,
   "id": "ab548bb8",
   "metadata": {},
   "outputs": [
    {
     "data": {
      "text/plain": [
       "Text(0.5, 0, 'epoch')"
      ]
     },
     "execution_count": 106,
     "metadata": {},
     "output_type": "execute_result"
    },
    {
     "data": {
      "image/png": "[encoded data removed]",
      "text/plain": [
       "<Figure size 432x288 with 1 Axes>"
      ]
     },
     "metadata": {
      "needs_background": "light"
     },
     "output_type": "display_data"
    }
   ],
   "source": [
    "plt.plot(range(epochs), aggregated_losses)\n",
    "plt.ylabel('Loss')\n",
    "plt.xlabel('epoch')"
   ]
  },
  {
   "cell_type": "code",
   "execution_count": 107,
   "id": "ab11f12e",
   "metadata": {},
   "outputs": [
    {
     "name": "stdout",
     "output_type": "stream",
     "text": [
      "Loss: 0.59656262\n"
     ]
    }
   ],
   "source": [
    "with torch.no_grad():\n",
    "    y_val = model(categorical_test_data, numerical_test_data)\n",
    "    loss = loss_function(y_val, test_outputs)\n",
    "print(f'Loss: {loss:.8f}')"
   ]
  },
  {
   "cell_type": "code",
   "execution_count": 108,
   "id": "75703ee2",
   "metadata": {},
   "outputs": [],
   "source": [
    "y_val = np.argmax(y_val, axis=1)"
   ]
  },
  {
   "cell_type": "code",
   "execution_count": 109,
   "id": "42aa363e",
   "metadata": {},
   "outputs": [
    {
     "name": "stdout",
     "output_type": "stream",
     "text": [
      "[[527 141]\n",
      " [282 400]]\n",
      "              precision    recall  f1-score   support\n",
      "\n",
      "           0       0.65      0.79      0.71       668\n",
      "           1       0.74      0.59      0.65       682\n",
      "\n",
      "    accuracy                           0.69      1350\n",
      "   macro avg       0.70      0.69      0.68      1350\n",
      "weighted avg       0.70      0.69      0.68      1350\n",
      "\n",
      "0.6866666666666666\n"
     ]
    }
   ],
   "source": [
    "from sklearn.metrics import classification_report, confusion_matrix, accuracy_score,roc_auc_score\n",
    "\n",
    "print(confusion_matrix(test_outputs,y_val))\n",
    "print(classification_report(test_outputs,y_val))\n",
    "print(accuracy_score(test_outputs, y_val))"
   ]
  },
  {
   "cell_type": "code",
   "execution_count": 110,
   "id": "8ab0876a",
   "metadata": {},
   "outputs": [
    {
     "data": {
      "text/plain": [
       "0.6877162098091207"
      ]
     },
     "execution_count": 110,
     "metadata": {},
     "output_type": "execute_result"
    }
   ],
   "source": [
    "roc_auc_score(test_outputs, y_val)"
   ]
  },
  {
   "cell_type": "code",
   "execution_count": 113,
   "id": "8a1f766f",
   "metadata": {},
   "outputs": [],
   "source": [
    "df_test=pd.read_csv(\"credit_history_test.csv\")\n",
    "for category in categorical_columns:\n",
    "    df_test[category] = df_test[category].astype('category')"
   ]
  },
  {
   "cell_type": "code",
   "execution_count": 114,
   "id": "280a0ea1",
   "metadata": {},
   "outputs": [],
   "source": [
    "gen = df_test['GENDER'].cat.codes.values\n",
    "edu = df_test['EDUCATION'].cat.codes.values\n",
    "marr = df_test['MARRIAGE'].cat.codes.values\n",
    "pay_f = df_test['PAY_FEB'].cat.codes.values\n",
    "pay_j = df_test['PAY_JAN'].cat.codes.values\n",
    "pay_d = df_test['PAY_DEC'].cat.codes.values\n",
    "\n",
    "categorical_data = np.stack([gen,edu,marr,pay_f,pay_j,pay_d], 1)"
   ]
  },
  {
   "cell_type": "code",
   "execution_count": 115,
   "id": "914bfb55",
   "metadata": {},
   "outputs": [],
   "source": [
    "categorical_data = torch.tensor(categorical_data, dtype=torch.int64)"
   ]
  },
  {
   "cell_type": "code",
   "execution_count": 117,
   "id": "62a24faa",
   "metadata": {},
   "outputs": [
    {
     "data": {
      "text/plain": [
       "tensor([[5.0000e+04, 2.2000e+01, 2.4763e+04, 3.3542e+04, 3.0455e+04, 1.0000e+04,\n",
       "         1.1750e+03, 2.0000e+03],\n",
       "        [8.0000e+04, 2.4000e+01, 7.5356e+04, 7.8236e+04, 7.7700e+04, 5.0000e+03,\n",
       "         4.1760e+03, 4.0000e+03],\n",
       "        [9.0000e+04, 2.8000e+01, 2.4657e+04, 2.5743e+04, 2.6406e+04, 1.5000e+03,\n",
       "         1.5000e+03, 1.5080e+03],\n",
       "        [5.0000e+04, 2.7000e+01, 4.9200e+02, 4.9200e+02, 4.9200e+02, 4.9300e+02,\n",
       "         4.9300e+02, 4.9300e+02],\n",
       "        [2.7000e+05, 3.2000e+01, 1.1632e+05, 1.1910e+05, 1.2225e+05, 6.5000e+03,\n",
       "         6.8430e+03, 6.2840e+03]])"
      ]
     },
     "execution_count": 117,
     "metadata": {},
     "output_type": "execute_result"
    }
   ],
   "source": [
    "numerical_data = np.stack([df_test[col].values for col in numerical_columns], 1)\n",
    "numerical_data = torch.tensor(numerical_data, dtype=torch.float)\n",
    "numerical_data[:5]"
   ]
  },
  {
   "cell_type": "code",
   "execution_count": 121,
   "id": "15a2b78a",
   "metadata": {},
   "outputs": [],
   "source": [
    "with torch.no_grad():\n",
    "    y_val = model(categorical_data, numerical_data)"
   ]
  },
  {
   "cell_type": "code",
   "execution_count": 122,
   "id": "dd10b63a",
   "metadata": {},
   "outputs": [],
   "source": [
    "y_val = np.argmax(y_val, axis=1)"
   ]
  },
  {
   "cell_type": "code",
   "execution_count": 124,
   "id": "7878b8e6",
   "metadata": {},
   "outputs": [
    {
     "data": {
      "text/plain": [
       "tensor(6418)"
      ]
     },
     "execution_count": 124,
     "metadata": {},
     "output_type": "execute_result"
    }
   ],
   "source": [
    "sum(y_val)"
   ]
  },
  {
   "cell_type": "code",
   "execution_count": 127,
   "id": "aaa873d7",
   "metadata": {},
   "outputs": [
    {
     "data": {
      "text/html": [
       "<div>\n",
       "<style scoped>\n",
       "    .dataframe tbody tr th:only-of-type {\n",
       "        vertical-align: middle;\n",
       "    }\n",
       "\n",
       "    .dataframe tbody tr th {\n",
       "        vertical-align: top;\n",
       "    }\n",
       "\n",
       "    .dataframe thead th {\n",
       "        text-align: right;\n",
       "    }\n",
       "</style>\n",
       "<table border=\"1\" class=\"dataframe\">\n",
       "  <thead>\n",
       "    <tr style=\"text-align: right;\">\n",
       "      <th></th>\n",
       "      <th>ID</th>\n",
       "      <th>CREDIT</th>\n",
       "      <th>GENDER</th>\n",
       "      <th>EDUCATION</th>\n",
       "      <th>MARRIAGE</th>\n",
       "      <th>AGE</th>\n",
       "      <th>PAY_FEB</th>\n",
       "      <th>PAY_JAN</th>\n",
       "      <th>PAY_DEC</th>\n",
       "      <th>BILL_AMT_FEB</th>\n",
       "      <th>BILL_AMT_JAN</th>\n",
       "      <th>BILL_AMT_DEC</th>\n",
       "      <th>PAY_AMT_FEB</th>\n",
       "      <th>PAY_AMT_JAN</th>\n",
       "      <th>PAY_AMT_DEC</th>\n",
       "      <th>DEFAULT_MAR</th>\n",
       "    </tr>\n",
       "  </thead>\n",
       "  <tbody>\n",
       "    <tr>\n",
       "      <th>0</th>\n",
       "      <td>1</td>\n",
       "      <td>20000</td>\n",
       "      <td>Female</td>\n",
       "      <td>Post Graduate</td>\n",
       "      <td>Married</td>\n",
       "      <td>24</td>\n",
       "      <td>2</td>\n",
       "      <td>2</td>\n",
       "      <td>-1</td>\n",
       "      <td>3913</td>\n",
       "      <td>3102</td>\n",
       "      <td>689</td>\n",
       "      <td>0</td>\n",
       "      <td>689</td>\n",
       "      <td>0</td>\n",
       "      <td>1</td>\n",
       "    </tr>\n",
       "    <tr>\n",
       "      <th>1</th>\n",
       "      <td>2</td>\n",
       "      <td>120000</td>\n",
       "      <td>Female</td>\n",
       "      <td>Post Graduate</td>\n",
       "      <td>Single</td>\n",
       "      <td>26</td>\n",
       "      <td>-1</td>\n",
       "      <td>2</td>\n",
       "      <td>-1</td>\n",
       "      <td>2682</td>\n",
       "      <td>1725</td>\n",
       "      <td>2682</td>\n",
       "      <td>0</td>\n",
       "      <td>1000</td>\n",
       "      <td>1000</td>\n",
       "      <td>1</td>\n",
       "    </tr>\n",
       "    <tr>\n",
       "      <th>2</th>\n",
       "      <td>3</td>\n",
       "      <td>90000</td>\n",
       "      <td>Female</td>\n",
       "      <td>Post Graduate</td>\n",
       "      <td>Single</td>\n",
       "      <td>34</td>\n",
       "      <td>-1</td>\n",
       "      <td>-1</td>\n",
       "      <td>-1</td>\n",
       "      <td>29239</td>\n",
       "      <td>14027</td>\n",
       "      <td>13559</td>\n",
       "      <td>1518</td>\n",
       "      <td>1500</td>\n",
       "      <td>1000</td>\n",
       "      <td>0</td>\n",
       "    </tr>\n",
       "    <tr>\n",
       "      <th>3</th>\n",
       "      <td>4</td>\n",
       "      <td>50000</td>\n",
       "      <td>Female</td>\n",
       "      <td>Post Graduate</td>\n",
       "      <td>Married</td>\n",
       "      <td>37</td>\n",
       "      <td>-1</td>\n",
       "      <td>-1</td>\n",
       "      <td>-1</td>\n",
       "      <td>46990</td>\n",
       "      <td>48233</td>\n",
       "      <td>49291</td>\n",
       "      <td>2000</td>\n",
       "      <td>2019</td>\n",
       "      <td>1200</td>\n",
       "      <td>0</td>\n",
       "    </tr>\n",
       "    <tr>\n",
       "      <th>4</th>\n",
       "      <td>5</td>\n",
       "      <td>50000</td>\n",
       "      <td>Male</td>\n",
       "      <td>Post Graduate</td>\n",
       "      <td>Married</td>\n",
       "      <td>57</td>\n",
       "      <td>-1</td>\n",
       "      <td>-1</td>\n",
       "      <td>-1</td>\n",
       "      <td>8617</td>\n",
       "      <td>5670</td>\n",
       "      <td>35835</td>\n",
       "      <td>2000</td>\n",
       "      <td>36681</td>\n",
       "      <td>10000</td>\n",
       "      <td>0</td>\n",
       "    </tr>\n",
       "  </tbody>\n",
       "</table>\n",
       "</div>"
      ],
      "text/plain": [
       "   ID  CREDIT  GENDER      EDUCATION MARRIAGE  AGE  PAY_FEB  PAY_JAN  PAY_DEC  \\\n",
       "0   1   20000  Female  Post Graduate  Married   24        2        2       -1   \n",
       "1   2  120000  Female  Post Graduate   Single   26       -1        2       -1   \n",
       "2   3   90000  Female  Post Graduate   Single   34       -1       -1       -1   \n",
       "3   4   50000  Female  Post Graduate  Married   37       -1       -1       -1   \n",
       "4   5   50000    Male  Post Graduate  Married   57       -1       -1       -1   \n",
       "\n",
       "   BILL_AMT_FEB  BILL_AMT_JAN  BILL_AMT_DEC  PAY_AMT_FEB  PAY_AMT_JAN  \\\n",
       "0          3913          3102           689            0          689   \n",
       "1          2682          1725          2682            0         1000   \n",
       "2         29239         14027         13559         1518         1500   \n",
       "3         46990         48233         49291         2000         2019   \n",
       "4          8617          5670         35835         2000        36681   \n",
       "\n",
       "   PAY_AMT_DEC  DEFAULT_MAR  \n",
       "0            0            1  \n",
       "1         1000            1  \n",
       "2         1000            0  \n",
       "3         1200            0  \n",
       "4        10000            0  "
      ]
     },
     "execution_count": 127,
     "metadata": {},
     "output_type": "execute_result"
    }
   ],
   "source": [
    "df.head()"
   ]
  },
  {
   "cell_type": "code",
   "execution_count": 130,
   "id": "9951ec81",
   "metadata": {},
   "outputs": [
    {
     "data": {
      "text/plain": [
       "(array([1.3689e+04, 1.1320e+03, 1.5900e+02, 1.8000e+01, 1.0000e+00,\n",
       "        0.0000e+00, 0.0000e+00, 0.0000e+00, 0.0000e+00, 1.0000e+00]),\n",
       " array([ -34041.,  135772.,  305585.,  475398.,  645211.,  815024.,\n",
       "         984837., 1154650., 1324463., 1494276., 1664089.]),\n",
       " <BarContainer object of 10 artists>)"
      ]
     },
     "execution_count": 130,
     "metadata": {},
     "output_type": "execute_result"
    },
    {
     "data": {
      "image/png": "[encoded data removed]",
      "text/plain": [
       "<Figure size 432x288 with 1 Axes>"
      ]
     },
     "metadata": {
      "needs_background": "light"
     },
     "output_type": "display_data"
    }
   ],
   "source": [
    "plt.hist(df[\"BILL_AMT_DEC\"])"
   ]
  },
  {
   "cell_type": "code",
   "execution_count": 135,
   "id": "21417f3d",
   "metadata": {},
   "outputs": [
    {
     "name": "stdout",
     "output_type": "stream",
     "text": [
      "Statistics=0.178, p=0.000\n",
      "Sample does not look Gaussian (reject H0)\n"
     ]
    }
   ],
   "source": [
    "from scipy.stats import shapiro\n",
    "stat, p = shapiro(df[\"PAY_AMT_JAN\"])\n",
    "print('Statistics=%.3f, p=%.3f' % (stat, p))\n",
    "# interpret\n",
    "alpha = 0.05\n",
    "if p > alpha:\n",
    "    print('Sample looks Gaussian (fail to reject H0)')\n",
    "else:\n",
    "    print('Sample does not look Gaussian (reject H0)')"
   ]
  },
  {
   "cell_type": "code",
   "execution_count": null,
   "id": "9ff10b30",
   "metadata": {},
   "outputs": [],
   "source": []
  }
 ],
 "metadata": {
  "kernelspec": {
   "display_name": "Python 3",
   "language": "python",
   "name": "python3"
  },
  "language_info": {
   "codemirror_mode": {
    "name": "ipython",
    "version": 3
   },
   "file_extension": ".py",
   "mimetype": "text/x-python",
   "name": "python",
   "nbconvert_exporter": "python",
   "pygments_lexer": "ipython3",
   "version": "3.6.9"
  }
 },
 "nbformat": 4,
 "nbformat_minor": 5
}
